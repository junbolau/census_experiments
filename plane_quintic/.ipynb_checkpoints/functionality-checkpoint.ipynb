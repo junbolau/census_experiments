{
 "cells": [
  {
   "cell_type": "raw",
   "id": "f193efc1",
   "metadata": {},
   "source": [
    "#sort curves into bins by pointcounts"
   ]
  },
  {
   "cell_type": "code",
   "execution_count": 1,
   "id": "a95d62d3",
   "metadata": {},
   "outputs": [],
   "source": [
    "from collections import defaultdict"
   ]
  },
  {
   "cell_type": "code",
   "execution_count": 3,
   "id": "1df0b0a3",
   "metadata": {},
   "outputs": [],
   "source": [
    "curves = defaultdict(set)\n",
    "R.<x0,x1,x2> = PolynomialRing(GF(2))\n",
    "for i in range(25):\n",
    "    f = open('data/genus_' + str(i) + \".txt\",\"r\").readlines()\n",
    "    for l in f:\n",
    "        lst = sage_eval(l,{'x0':x0,'x1':x1,'x2':x2})\n",
    "        curves[tuple(lst[0])].add(lst[1][0])"
   ]
  },
  {
   "cell_type": "code",
   "execution_count": 4,
   "id": "d13f5a78",
   "metadata": {},
   "outputs": [
    {
     "data": {
      "text/plain": [
       "3682"
      ]
     },
     "execution_count": 4,
     "metadata": {},
     "output_type": "execute_result"
    }
   ],
   "source": [
    "len(list(curves.keys()))"
   ]
  },
  {
   "cell_type": "code",
   "execution_count": 5,
   "id": "3882b50b",
   "metadata": {},
   "outputs": [
    {
     "data": {
      "text/plain": [
       "3700"
      ]
     },
     "execution_count": 5,
     "metadata": {},
     "output_type": "execute_result"
    }
   ],
   "source": [
    "148*25"
   ]
  },
  {
   "cell_type": "code",
   "execution_count": 6,
   "id": "5731984d",
   "metadata": {},
   "outputs": [],
   "source": [
    "k_lst = list(curves.keys())\n",
    "for i in range(25):\n",
    "    to_write = []\n",
    "    f = open(\"data/sorted/\" + str(i) + \".txt\",\"w+\")\n",
    "    for k in k_lst[148*i:148*i + 148]:\n",
    "        for eqn in curves[k]:\n",
    "            f.write(str([list(k),[eqn]]))\n",
    "            f.write('\\n')\n",
    "    f.close()"
   ]
  },
  {
   "cell_type": "raw",
   "id": "520d7fcf",
   "metadata": {},
   "source": [
    "#(nonstacky,stacky)-counts"
   ]
  },
  {
   "cell_type": "code",
   "execution_count": 2,
   "id": "9cbf4a13",
   "metadata": {},
   "outputs": [
    {
     "name": "stdout",
     "output_type": "stream",
     "text": [
      "4208 4097.75000000000\n"
     ]
    }
   ],
   "source": [
    "R.<x0,x1,x2> = PolynomialRing(GF(2))\n",
    "stacky_ct = 0\n",
    "nonstacky_ct = 0\n",
    "for i in range(25):\n",
    "    f = open(\"data/sorted/isom_\" + str(i) + \".txt\",\"r\").readlines()\n",
    "    for l in f:\n",
    "        line = sage_eval(l,{'x0':x0,'x1':x1,'x2':x2})\n",
    "        stacky_ct += 1.0/line[1]\n",
    "        nonstacky_ct +=1\n",
    "print(nonstacky_ct,stacky_ct)"
   ]
  },
  {
   "cell_type": "raw",
   "id": "3006b4d3",
   "metadata": {},
   "source": [
    "FF-version of #(nonstacky,stacky)-counts"
   ]
  },
  {
   "cell_type": "raw",
   "id": "8c8bfa5c",
   "metadata": {},
   "source": [
    "Replace 'error' with '\"error\"' in Magma output files"
   ]
  },
  {
   "cell_type": "code",
   "execution_count": 2,
   "id": "b498ba82",
   "metadata": {},
   "outputs": [],
   "source": [
    "for i in range(25):\n",
    "    with open(\"data/sorted/ff_isom_\" + str(i) + \".txt\",\"r\") as f:\n",
    "        filedata = f.read()\n",
    "        filedata = filedata.replace('error','\"error\"')\n",
    "    with open(\"data/sorted/ff_isom_\" + str(i) + \".txt\",\"w\") as file:\n",
    "        file.write(filedata)"
   ]
  },
  {
   "cell_type": "code",
   "execution_count": 16,
   "id": "9484bc3f",
   "metadata": {},
   "outputs": [
    {
     "name": "stdout",
     "output_type": "stream",
     "text": [
      "0 2\n",
      "1 3\n",
      "2 3\n",
      "3 3\n",
      "4 3\n",
      "5 3\n",
      "6 3\n",
      "7 3\n",
      "8 3\n",
      "9 4\n",
      "10 7\n",
      "11 8\n",
      "12 9\n",
      "13 9\n",
      "14 14\n",
      "15 18\n",
      "16 19\n",
      "17 23\n",
      "18 23\n",
      "19 28\n",
      "20 36\n",
      "21 39\n",
      "22 39\n",
      "23 45\n",
      "24 46\n",
      "4208 4053.25000000000 22.2500000000000 4075.50000000000\n"
     ]
    }
   ],
   "source": [
    "R.<x0,x1,x2> = PolynomialRing(GF(2))\n",
    "stacky_ct = 0\n",
    "nonstacky_ct = 0\n",
    "error_ct = 0\n",
    "error_adj = 0\n",
    "for i in range(25):\n",
    "    f = open(\"data/sorted/ff_isom_\" + str(i) + \".txt\",\"r\").readlines()\n",
    "    for line in f:\n",
    "        l = sage_eval(line,{'x0':x0,'x1':x1,'x2':x2})\n",
    "        nonstacky_ct += 1\n",
    "        if l[-1] == True:\n",
    "            stacky_ct += 1/Integer(l[1])\n",
    "        elif l[-1] == False:\n",
    "            print('false:',l)\n",
    "        elif l[-1] == \"error\":\n",
    "            error_ct +=1\n",
    "            error_adj += 1/Integer(l[1])\n",
    "    print(i,error_ct)\n",
    "print(nonstacky_ct,(stacky_ct).n(),(error_adj).n(),stacky_ct+error_adj.n())"
   ]
  },
  {
   "cell_type": "code",
   "execution_count": null,
   "id": "405add4f",
   "metadata": {},
   "outputs": [],
   "source": []
  }
 ],
 "metadata": {
  "kernelspec": {
   "display_name": "SageMath 10.2.beta1",
   "language": "sage",
   "name": "sagemath"
  },
  "language_info": {
   "codemirror_mode": {
    "name": "ipython",
    "version": 3
   },
   "file_extension": ".py",
   "mimetype": "text/x-python",
   "name": "python",
   "nbconvert_exporter": "python",
   "pygments_lexer": "ipython3",
   "version": "3.10.12"
  }
 },
 "nbformat": 4,
 "nbformat_minor": 5
}
