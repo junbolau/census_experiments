{
 "cells": [
  {
   "cell_type": "raw",
   "id": "f193efc1",
   "metadata": {},
   "source": [
    "#sort curves into bins by pointcounts"
   ]
  },
  {
   "cell_type": "code",
   "execution_count": 1,
   "id": "a95d62d3",
   "metadata": {},
   "outputs": [],
   "source": [
    "from collections import defaultdict"
   ]
  },
  {
   "cell_type": "code",
   "execution_count": 3,
   "id": "1df0b0a3",
   "metadata": {},
   "outputs": [],
   "source": [
    "curves = defaultdict(set)\n",
    "R.<x0,x1,x2> = PolynomialRing(GF(2))\n",
    "for i in range(25):\n",
    "    f = open('data/genus_' + str(i) + \".txt\",\"r\").readlines()\n",
    "    for l in f:\n",
    "        lst = sage_eval(l,{'x0':x0,'x1':x1,'x2':x2})\n",
    "        curves[tuple(lst[0])].add(lst[1][0])"
   ]
  },
  {
   "cell_type": "code",
   "execution_count": 4,
   "id": "d13f5a78",
   "metadata": {},
   "outputs": [
    {
     "data": {
      "text/plain": [
       "3682"
      ]
     },
     "execution_count": 4,
     "metadata": {},
     "output_type": "execute_result"
    }
   ],
   "source": [
    "len(list(curves.keys()))"
   ]
  },
  {
   "cell_type": "code",
   "execution_count": 5,
   "id": "3882b50b",
   "metadata": {},
   "outputs": [
    {
     "data": {
      "text/plain": [
       "3700"
      ]
     },
     "execution_count": 5,
     "metadata": {},
     "output_type": "execute_result"
    }
   ],
   "source": [
    "148*25"
   ]
  },
  {
   "cell_type": "code",
   "execution_count": 6,
   "id": "5731984d",
   "metadata": {},
   "outputs": [],
   "source": [
    "k_lst = list(curves.keys())\n",
    "for i in range(25):\n",
    "    to_write = []\n",
    "    f = open(\"data/sorted/\" + str(i) + \".txt\",\"w+\")\n",
    "    for k in k_lst[148*i:148*i + 148]:\n",
    "        for eqn in curves[k]:\n",
    "            f.write(str([list(k),[eqn]]))\n",
    "            f.write('\\n')\n",
    "    f.close()"
   ]
  },
  {
   "cell_type": "raw",
   "id": "520d7fcf",
   "metadata": {},
   "source": [
    "#(nonstacky,stacky)-counts"
   ]
  },
  {
   "cell_type": "code",
   "execution_count": 8,
   "id": "9cbf4a13",
   "metadata": {},
   "outputs": [
    {
     "name": "stdout",
     "output_type": "stream",
     "text": [
      "19558 19346.5833333333\n"
     ]
    }
   ],
   "source": [
    "R.<x0,x1,x2> = PolynomialRing(GF(2))\n",
    "stacky_ct = 0\n",
    "nonstacky_ct = 0\n",
    "for i in range(25):\n",
    "    f = open(\"data/isom_genus_\" + str(i) + \".txt\",\"r\").readlines()\n",
    "    for j in range(2,len(f),3):\n",
    "        l = f[j]\n",
    "        l= l.replace(']','')\n",
    "        l = l.replace(',','')\n",
    "        stacky_ct += 1.0/sage_eval(l,{'x':x,'y':y})\n",
    "        nonstacky_ct +=1\n",
    "print(nonstacky_ct,stacky_ct)"
   ]
  },
  {
   "cell_type": "code",
   "execution_count": null,
   "id": "913e6dd5",
   "metadata": {},
   "outputs": [],
   "source": []
  },
  {
   "cell_type": "code",
   "execution_count": null,
   "id": "7750ca9c",
   "metadata": {},
   "outputs": [],
   "source": []
  },
  {
   "cell_type": "code",
   "execution_count": 7,
   "id": "b498ba82",
   "metadata": {},
   "outputs": [],
   "source": [
    "for i in range(25):\n",
    "    with open(\"data/ff_isom_genus_\" + str(i) + \".txt\",\"r\") as f:\n",
    "        filedata = f.read()\n",
    "        filedata = filedata.replace('error','\"error\"')\n",
    "    with open(\"data/ff_isom_genus_\" + str(i) + \".txt\",\"w\") as file:\n",
    "        file.write(filedata)"
   ]
  },
  {
   "cell_type": "code",
   "execution_count": 8,
   "id": "9484bc3f",
   "metadata": {},
   "outputs": [
    {
     "name": "stdout",
     "output_type": "stream",
     "text": [
      "0 36\n",
      "1 36\n",
      "2 42\n",
      "3 42\n",
      "4 42\n",
      "5 42\n",
      "6 42\n",
      "7 42\n",
      "8 47\n",
      "9 65\n",
      "10 67\n",
      "11 87\n",
      "12 99\n",
      "13 99\n",
      "14 109\n",
      "15 111\n",
      "16 120\n",
      "17 130\n",
      "18 149\n",
      "19 150\n",
      "20 159\n",
      "21 173\n",
      "22 185\n",
      "23 185\n",
      "24 186\n",
      "19558 229975/12\n"
     ]
    }
   ],
   "source": [
    "R.<x0,x1,x2> = PolynomialRing(GF(2))\n",
    "stacky_ct = 0\n",
    "nonstacky_ct = 0\n",
    "error_ct = 0\n",
    "for i in range(25):\n",
    "    f = open(\"data/ff_isom_genus_\" + str(i) + \".txt\",\"r\").readlines()\n",
    "    for line in f:\n",
    "        l = sage_eval(line,{'x0':x0,'x1':x1,'x2':x2})\n",
    "        nonstacky_ct += 1\n",
    "        if l[-1] == True:\n",
    "            stacky_ct += 1/Integer(l[1])\n",
    "        elif l[-1] == False:\n",
    "            print('false:',l)\n",
    "        elif l[-1] == \"error\":\n",
    "            error_ct +=1\n",
    "    print(i,error_ct)\n",
    "print(nonstacky_ct,stacky_ct)"
   ]
  },
  {
   "cell_type": "code",
   "execution_count": null,
   "id": "2e3fa38a",
   "metadata": {},
   "outputs": [],
   "source": []
  }
 ],
 "metadata": {
  "kernelspec": {
   "display_name": "SageMath 10.2.beta1",
   "language": "sage",
   "name": "sagemath"
  },
  "language_info": {
   "codemirror_mode": {
    "name": "ipython",
    "version": 3
   },
   "file_extension": ".py",
   "mimetype": "text/x-python",
   "name": "python",
   "nbconvert_exporter": "python",
   "pygments_lexer": "ipython3",
   "version": "3.10.12"
  }
 },
 "nbformat": 4,
 "nbformat_minor": 5
}
