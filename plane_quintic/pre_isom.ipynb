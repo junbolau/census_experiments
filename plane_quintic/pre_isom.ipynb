{
 "cells": [
  {
   "cell_type": "raw",
   "id": "5968dd94",
   "metadata": {},
   "source": [
    "data processing:\n",
    "- reorganise elements in .txt files by pointcounts for isomorphism check later"
   ]
  },
  {
   "cell_type": "code",
   "execution_count": 1,
   "id": "225eb797",
   "metadata": {},
   "outputs": [],
   "source": [
    "from collections import defaultdict\n",
    "d = defaultdict(set)"
   ]
  },
  {
   "cell_type": "code",
   "execution_count": 4,
   "id": "2c5684d4",
   "metadata": {},
   "outputs": [],
   "source": [
    "for i in range(25):\n",
    "    f = open('./data/genus_unfiltered_' + str(i) + '.txt','r').readlines()\n",
    "    for line in f:\n",
    "        lst = sage_eval(line)\n",
    "        d[tuple(lst[0])].add(tuple(lst[1]))"
   ]
  },
  {
   "cell_type": "code",
   "execution_count": 14,
   "id": "3f3fb7ec",
   "metadata": {},
   "outputs": [],
   "source": [
    "lst = list(d.keys())\n",
    "for j in range(25):\n",
    "    f = open('./data/genus_' + str(j) + '.txt','w+')\n",
    "    for key in lst[147*j:147*j + 147]:\n",
    "        for gens in d[key]:\n",
    "            f.write(str([list(key),list(gens)]))\n",
    "            f.write('\\n')\n",
    "    f.close()"
   ]
  },
  {
   "cell_type": "code",
   "execution_count": null,
   "id": "00f0288a",
   "metadata": {},
   "outputs": [],
   "source": []
  }
 ],
 "metadata": {
  "kernelspec": {
   "display_name": "SageMath 10.2.beta1",
   "language": "sage",
   "name": "sagemath"
  },
  "language_info": {
   "codemirror_mode": {
    "name": "ipython",
    "version": 3
   },
   "file_extension": ".py",
   "mimetype": "text/x-python",
   "name": "python",
   "nbconvert_exporter": "python",
   "pygments_lexer": "ipython3",
   "version": "3.10.12"
  }
 },
 "nbformat": 4,
 "nbformat_minor": 5
}
