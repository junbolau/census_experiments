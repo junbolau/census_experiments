{
 "cells": [
  {
   "cell_type": "code",
   "execution_count": 1,
   "id": "bc17938d",
   "metadata": {},
   "outputs": [],
   "source": [
    "load(\"../../Shared/pointcounts.sage\")"
   ]
  },
  {
   "cell_type": "code",
   "execution_count": 2,
   "id": "91595e5b",
   "metadata": {},
   "outputs": [],
   "source": [
    "for i in range(25):\n",
    "    filename = 'with_genus_unfiltered_' + str(i) + '.txt'\n",
    "    f = open(filename,'r').readlines()\n",
    "    \n",
    "    newfile = 'new_' + filename\n",
    "    g = open(newfile,'a')\n",
    "    \n",
    "    for line in f:\n",
    "        l = sage_eval(line)\n",
    "        if tuple(l[0]) in data:\n",
    "            g.write(str(l) +'\\n')\n",
    "    g.close()"
   ]
  },
  {
   "cell_type": "code",
   "execution_count": null,
   "id": "5ca5dba1",
   "metadata": {},
   "outputs": [],
   "source": []
  }
 ],
 "metadata": {
  "kernelspec": {
   "display_name": "SageMath 10.2.beta1",
   "language": "sage",
   "name": "sagemath"
  },
  "language_info": {
   "codemirror_mode": {
    "name": "ipython",
    "version": 3
   },
   "file_extension": ".py",
   "mimetype": "text/x-python",
   "name": "python",
   "nbconvert_exporter": "python",
   "pygments_lexer": "ipython3",
   "version": "3.10.12"
  }
 },
 "nbformat": 4,
 "nbformat_minor": 5
}
