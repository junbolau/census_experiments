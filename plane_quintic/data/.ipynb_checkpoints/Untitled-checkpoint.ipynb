{
 "cells": [
  {
   "cell_type": "code",
   "execution_count": 4,
   "id": "12f42900",
   "metadata": {},
   "outputs": [
    {
     "ename": "TypeError",
     "evalue": "write() argument must be str, not list",
     "output_type": "error",
     "traceback": [
      "\u001b[0;31m---------------------------------------------------------------------------\u001b[0m",
      "\u001b[0;31mTypeError\u001b[0m                                 Traceback (most recent call last)",
      "Cell \u001b[0;32mIn [4], line 15\u001b[0m\n\u001b[1;32m     13\u001b[0m         tmp\u001b[38;5;241m.\u001b[39mappend([line0[Integer(\u001b[38;5;241m0\u001b[39m)],[line0[Integer(\u001b[38;5;241m1\u001b[39m)]]])\n\u001b[1;32m     14\u001b[0m \u001b[38;5;28;01mwith\u001b[39;00m \u001b[38;5;28mopen\u001b[39m(\u001b[38;5;124m\"\u001b[39m\u001b[38;5;124mtest.txt\u001b[39m\u001b[38;5;124m\"\u001b[39m,\u001b[38;5;124m'\u001b[39m\u001b[38;5;124mw\u001b[39m\u001b[38;5;124m'\u001b[39m) \u001b[38;5;28;01mas\u001b[39;00m f:\n\u001b[0;32m---> 15\u001b[0m     \u001b[43mf\u001b[49m\u001b[38;5;241;43m.\u001b[39;49m\u001b[43mwrite\u001b[49m\u001b[43m(\u001b[49m\u001b[43mtmp\u001b[49m\u001b[43m)\u001b[49m\n\u001b[1;32m     16\u001b[0m     f\u001b[38;5;241m.\u001b[39mclose()\n\u001b[1;32m     17\u001b[0m fp\u001b[38;5;241m.\u001b[39mclose()\n",
      "\u001b[0;31mTypeError\u001b[0m: write() argument must be str, not list"
     ]
    }
   ],
   "source": [
    "import ast\n",
    "\n",
    "with open(r\"with_genus_plane_quintic_unfiltered_batch_21.txt\", 'r') as fp:\n",
    "    tmp = []\n",
    "    for line in fp:\n",
    "        line0 = ast.literal_eval(line)\n",
    "        try:\n",
    "            if line0[0] == tmp[-1][0]:\n",
    "                tmp[-1][1].append(line0[1])\n",
    "            else:\n",
    "                tmp.append([line0[0],[line0[1]]])\n",
    "        except:\n",
    "            tmp.append([line0[0],[line0[1]]])\n",
    "    with open(\"test.txt\",'w') as f:\n",
    "        f.write(tmp)\n",
    "        f.close()\n",
    "    fp.close()"
   ]
  },
  {
   "cell_type": "code",
   "execution_count": null,
   "id": "c84dce5b",
   "metadata": {},
   "outputs": [],
   "source": []
  }
 ],
 "metadata": {
  "kernelspec": {
   "display_name": "SageMath 10.2.beta1",
   "language": "sage",
   "name": "sagemath"
  },
  "language_info": {
   "codemirror_mode": {
    "name": "ipython",
    "version": 3
   },
   "file_extension": ".py",
   "mimetype": "text/x-python",
   "name": "python",
   "nbconvert_exporter": "python",
   "pygments_lexer": "ipython3",
   "version": "3.10.12"
  }
 },
 "nbformat": 4,
 "nbformat_minor": 5
}
