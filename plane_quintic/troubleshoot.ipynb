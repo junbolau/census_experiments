{
 "cells": [
  {
   "cell_type": "code",
   "execution_count": 1,
   "id": "621b26d6",
   "metadata": {},
   "outputs": [],
   "source": [
    "# Counts from #Isomorphisms(F0,F1)\n",
    "R.<x0,x1,x2> = PolynomialRing(GF(2))\n",
    "lst = set()\n",
    "for i in range(25):\n",
    "    FF_file = open(\"data/sorted/ff_isom_\" + str(i) + \".txt\",\"r\").readlines()\n",
    "    for j in range(len(FF_file)):\n",
    "        FF_line = sage_eval(FF_file[j],{'x0':x0,'x1':x1,'x2':x2})\n",
    "        lst.add(tuple(FF_line))"
   ]
  },
  {
   "cell_type": "code",
   "execution_count": 3,
   "id": "579cf9ae",
   "metadata": {},
   "outputs": [],
   "source": [
    "# Counts from IsIsomorphic(F0,F1)\n",
    "R.<x0,x1,x2> = PolynomialRing(GF(2))\n",
    "lst1 = set()\n",
    "for i in range(25):\n",
    "    FF_file = open(\"data/magma_bug/ff_isom_\" + str(i) + \".txt\",\"r\").readlines()\n",
    "    for j in range(len(FF_file)):\n",
    "        FF_line = sage_eval(FF_file[j],{'x0':x0,'x1':x1,'x2':x2})\n",
    "        lst1.add(tuple(FF_line))"
   ]
  },
  {
   "cell_type": "code",
   "execution_count": 22,
   "id": "f7f8629e",
   "metadata": {},
   "outputs": [
    {
     "name": "stdout",
     "output_type": "stream",
     "text": [
      "[x0^5 + x0^4*x1 + x1^5 + x0^3*x1*x2 + x1^4*x2 + x0^3*x2^2 + x0*x1^2*x2^2 + x0*x2^4 + x1*x2^4, 2]\n",
      "[x0^5 + x0^4*x1 + x1^5 + x0^4*x2 + x1^4*x2 + x0*x2^4 + x1*x2^4, 4]\n",
      "[x0^5 + x0^2*x1^3 + x1^5 + x0^4*x2 + x1^4*x2 + x0*x2^4 + x1*x2^4, 2]\n",
      "[x0^5 + x0^4*x1 + x0^3*x1^2 + x0^2*x1^3 + x1^5 + x0^4*x2 + x0^3*x1*x2 + x0*x2^4 + x1*x2^4, 2]\n"
     ]
    }
   ],
   "source": [
    "for eqn in lst1:\n",
    "    if not eqn in lst:\n",
    "        print(list(eqn))"
   ]
  },
  {
   "cell_type": "code",
   "execution_count": 13,
   "id": "9c8d6142",
   "metadata": {},
   "outputs": [],
   "source": [
    "# get list of correct curves with correct aut size\n",
    "lst2 = []\n",
    "for eqn in lst:\n",
    "    if eqn[1] == 2 or eqn[1] == 4:\n",
    "        lst2.append(eqn)"
   ]
  },
  {
   "cell_type": "code",
   "execution_count": 17,
   "id": "c7f13054",
   "metadata": {},
   "outputs": [
    {
     "data": {
      "text/plain": [
       "188"
      ]
     },
     "execution_count": 17,
     "metadata": {},
     "output_type": "execute_result"
    }
   ],
   "source": [
    "len(lst2)"
   ]
  },
  {
   "cell_type": "code",
   "execution_count": 21,
   "id": "6bf93e34",
   "metadata": {},
   "outputs": [],
   "source": [
    "with open(\"aut_2_4.txt\", \"w\") as f:\n",
    "    for eqn in lst2:\n",
    "        ele = list(eqn)    \n",
    "        f.write(f\"{ele}\\n\")"
   ]
  },
  {
   "cell_type": "code",
   "execution_count": null,
   "id": "12f9601c",
   "metadata": {},
   "outputs": [],
   "source": []
  }
 ],
 "metadata": {
  "kernelspec": {
   "display_name": "SageMath 10.2.beta1",
   "language": "sage",
   "name": "sagemath"
  },
  "language_info": {
   "codemirror_mode": {
    "name": "ipython",
    "version": 3
   },
   "file_extension": ".py",
   "mimetype": "text/x-python",
   "name": "python",
   "nbconvert_exporter": "python",
   "pygments_lexer": "ipython3",
   "version": "3.10.12"
  }
 },
 "nbformat": 4,
 "nbformat_minor": 5
}
