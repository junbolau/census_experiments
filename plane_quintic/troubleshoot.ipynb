{
 "cells": [
  {
   "cell_type": "code",
   "execution_count": 14,
   "id": "621b26d6",
   "metadata": {},
   "outputs": [],
   "source": [
    "R.<x0,x1,x2> = PolynomialRing(GF(2))\n",
    "error_lst = []\n",
    "for i in range(25):\n",
    "    C_file = open(\"data/sorted/isom_\" + str(i) + \".txt\",\"r\").readlines()\n",
    "    FF_file = open(\"data/sorted/ff_isom_\" + str(i) + \".txt\",\"r\").readlines()\n",
    "    for j in range(len(C_file)):\n",
    "        C_line = sage_eval(C_file[j],{'x0':x0,'x1':x1,'x2':x2})\n",
    "        FF_line = sage_eval(FF_file[j],{'x0':x0,'x1':x1,'x2':x2})\n",
    "        if C_line[1] != FF_line[1] and C_line[0] == FF_line[0]:\n",
    "            C_line = sage_eval(C_file[j],{'x0':x0,'x1':x1,'x2':x2})\n",
    "            FF_line = sage_eval(FF_file[j],{'x0':x0,'x1':x1,'x2':x2})\n",
    "            error_lst.append((C_line[1],FF_line[1],FF_line[-1]))"
   ]
  },
  {
   "cell_type": "code",
   "execution_count": 18,
   "id": "c07ebb2a",
   "metadata": {},
   "outputs": [
    {
     "data": {
      "text/plain": [
       "[(1, 2, 'error'),\n",
       " (1, 2, 'error'),\n",
       " (2, 4, 'error'),\n",
       " (1, 2, 'error'),\n",
       " (1, 2, 'error'),\n",
       " (1, 2, 'error'),\n",
       " (1, 2, 'error'),\n",
       " (1, 2, 'error'),\n",
       " (1, 2, 'error'),\n",
       " (1, 2, 'error'),\n",
       " (1, 2, 'error'),\n",
       " (1, 2, 'error'),\n",
       " (1, 2, 'error'),\n",
       " (1, 2, 'error'),\n",
       " (1, 2, 'error'),\n",
       " (1, 2, 'error'),\n",
       " (1, 2, 'error'),\n",
       " (1, 2, 'error'),\n",
       " (1, 2, 'error'),\n",
       " (1, 2, 'error'),\n",
       " (1, 2, 'error'),\n",
       " (1, 2, 'error'),\n",
       " (1, 2, 'error'),\n",
       " (1, 2, 'error'),\n",
       " (1, 2, 'error'),\n",
       " (1, 2, 'error'),\n",
       " (1, 2, 'error'),\n",
       " (1, 2, 'error'),\n",
       " (1, 2, 'error'),\n",
       " (1, 2, 'error'),\n",
       " (1, 2, 'error'),\n",
       " (1, 2, 'error'),\n",
       " (1, 2, 'error'),\n",
       " (1, 2, 'error'),\n",
       " (1, 2, 'error'),\n",
       " (1, 2, 'error'),\n",
       " (1, 2, 'error'),\n",
       " (2, 4, 'error'),\n",
       " (2, 4, 'error'),\n",
       " (1, 2, 'error'),\n",
       " (1, 2, 'error'),\n",
       " (1, 2, 'error'),\n",
       " (1, 2, 'error'),\n",
       " (1, 2, 'error'),\n",
       " (1, 2, 'error'),\n",
       " (1, 2, 'error')]"
      ]
     },
     "execution_count": 18,
     "metadata": {},
     "output_type": "execute_result"
    }
   ],
   "source": [
    "error_lst"
   ]
  },
  {
   "cell_type": "code",
   "execution_count": 19,
   "id": "449d85e2",
   "metadata": {},
   "outputs": [],
   "source": [
    "lst = []\n",
    "for i in range(25):\n",
    "    FF_file = open(\"data/sorted/ff_isom_\" + str(i) + \".txt\",\"r\").readlines()\n",
    "    for l in FF_file:\n",
    "        line = sage_eval(l,{'x0':x0,'x1':x1,'x2':x2})\n",
    "        if line[-1] == 'error':\n",
    "            lst.append(line)"
   ]
  },
  {
   "cell_type": "code",
   "execution_count": 21,
   "id": "83b2afc9",
   "metadata": {},
   "outputs": [
    {
     "data": {
      "text/plain": [
       "46"
      ]
     },
     "execution_count": 21,
     "metadata": {},
     "output_type": "execute_result"
    }
   ],
   "source": [
    "len(lst)"
   ]
  },
  {
   "cell_type": "code",
   "execution_count": null,
   "id": "ca3069b7",
   "metadata": {},
   "outputs": [],
   "source": []
  }
 ],
 "metadata": {
  "kernelspec": {
   "display_name": "SageMath 10.2.beta1",
   "language": "sage",
   "name": "sagemath"
  },
  "language_info": {
   "codemirror_mode": {
    "name": "ipython",
    "version": 3
   },
   "file_extension": ".py",
   "mimetype": "text/x-python",
   "name": "python",
   "nbconvert_exporter": "python",
   "pygments_lexer": "ipython3",
   "version": "3.10.12"
  }
 },
 "nbformat": 4,
 "nbformat_minor": 5
}
