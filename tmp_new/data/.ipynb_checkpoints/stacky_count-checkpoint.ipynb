{
 "cells": [
  {
   "cell_type": "code",
   "execution_count": 1,
   "id": "44eb89a4",
   "metadata": {},
   "outputs": [],
   "source": [
    "load(\"../../Shared/pointcounts.sage\")"
   ]
  },
  {
   "cell_type": "code",
   "execution_count": 2,
   "id": "e8c5865d",
   "metadata": {},
   "outputs": [],
   "source": [
    "for i in range(25):\n",
    "    filename = 'with_genus_unfiltered_' + str(i) + '.txt'\n",
    "    f = open(filename,'r').readlines()\n",
    "    \n",
    "    newfile = 'new_' + filename\n",
    "    g = open(newfile,'a')\n",
    "    \n",
    "    for line in f:\n",
    "        l = sage_eval(line)\n",
    "        if tuple(l[0]) in data:\n",
    "            g.write(str(l) +'\\n')\n",
    "    g.close()"
   ]
  },
  {
   "cell_type": "code",
   "execution_count": null,
   "id": "e0fdbe44",
   "metadata": {},
   "outputs": [],
   "source": []
  }
 ],
 "metadata": {
  "kernelspec": {
   "display_name": "SageMath 10.2.beta1",
   "language": "sage",
   "name": "sagemath"
  },
  "language_info": {
   "codemirror_mode": {
    "name": "ipython",
    "version": 3
   },
   "file_extension": ".py",
   "mimetype": "text/x-python",
   "name": "python",
   "nbconvert_exporter": "python",
   "pygments_lexer": "ipython3",
   "version": "3.10.12"
  }
 },
 "nbformat": 4,
 "nbformat_minor": 5
}
