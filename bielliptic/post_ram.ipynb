{
 "cells": [
  {
   "cell_type": "markdown",
   "id": "536d3628",
   "metadata": {},
   "source": [
    "Run this after curves_by_ramification.m\n",
    "\n",
    "This cell compares the point counts from the construction of curves via ramification divisors with the point counts from data_generation.ipynb, i.e., if the point counts match, save them in pre_isom.txt, sorted by bins of point counts."
   ]
  },
  {
   "cell_type": "code",
   "execution_count": 10,
   "id": "147749fb",
   "metadata": {},
   "outputs": [],
   "source": [
    "import os\n",
    "\n",
    "for i in range(5):\n",
    "    directory = './data/' + str(i+1)\n",
    "    \n",
    "    curve_fp =  directory + '/sanity_check/curve_pointcounts.txt'\n",
    "    curve_pc = open(curve_fp,\"r\").readlines()\n",
    "    curve_pc_lst = []\n",
    "    for pc in curve_pc:\n",
    "        pc = eval(pc.strip('\\n'))\n",
    "        curve_pc_lst.append(pc)\n",
    "        \n",
    "    R.<x,y> = PolynomialRing(GF(2))\n",
    "    eqns = {}\n",
    "    for filename in os.listdir(directory):\n",
    "        if filename.endswith('.txt') and not filename == 'pre_isom.txt':\n",
    "            with open(os.path.join(directory, filename)) as f:\n",
    "                fr = f.readlines()\n",
    "                \n",
    "                for j in range(0,len(fr)//2,2):\n",
    "                    pol = R(fr[j])\n",
    "                    pol_pc = eval(fr[j+1])\n",
    "                    if pol_pc in curve_pc_lst:\n",
    "                        try:\n",
    "                            eqns[tuple(pol_pc)].add(pol)\n",
    "                        except:\n",
    "                            eqns[tuple(pol_pc)] = {pol}\n",
    "            f.close()\n",
    "    g = open(\"./data/sorted_data/\" + str(i+1) +\".txt\",\"a+\")\n",
    "    for pc in eqns:\n",
    "        for pol in eqns[pc]:\n",
    "            g.write(str([list(pc),[pol]]) + \"\\n\")\n",
    "    g.close()"
   ]
  },
  {
   "cell_type": "code",
   "execution_count": 9,
   "id": "85087e12",
   "metadata": {},
   "outputs": [
    {
     "data": {
      "text/plain": [
       "1375"
      ]
     },
     "execution_count": 9,
     "metadata": {},
     "output_type": "execute_result"
    }
   ],
   "source": [
    "156 + 207 + 297 + 254 + 461"
   ]
  },
  {
   "cell_type": "code",
   "execution_count": null,
   "id": "61345d40",
   "metadata": {},
   "outputs": [],
   "source": []
  }
 ],
 "metadata": {
  "kernelspec": {
   "display_name": "SageMath 10.2.beta1",
   "language": "sage",
   "name": "sagemath"
  },
  "language_info": {
   "codemirror_mode": {
    "name": "ipython",
    "version": 3
   },
   "file_extension": ".py",
   "mimetype": "text/x-python",
   "name": "python",
   "nbconvert_exporter": "python",
   "pygments_lexer": "ipython3",
   "version": "3.10.12"
  }
 },
 "nbformat": 4,
 "nbformat_minor": 5
}
