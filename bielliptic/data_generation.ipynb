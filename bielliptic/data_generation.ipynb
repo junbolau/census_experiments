{
 "cells": [
  {
   "cell_type": "code",
   "execution_count": 1,
   "id": "072a0f11",
   "metadata": {},
   "outputs": [],
   "source": [
    "load(\"../Shared/orbits.sage\") # Group orbits\n",
    "load(\"../Shared/linalg.sage\") # Auxiliary linear algebra\n",
    "load(\"../Shared/cyclic_covers.sage\") # Cyclic covers of function fields\n",
    "load(\"../Shared/weil_poly_utils.sage\") # Utility functions for Weil polynomials\n",
    "import itertools, pandas, time\n",
    "from collections import defaultdict"
   ]
  },
  {
   "cell_type": "code",
   "execution_count": 2,
   "id": "18053c03",
   "metadata": {},
   "outputs": [],
   "source": [
    "# 5 elliptic curves over F_2 up to isom in Weierstrass form\n",
    "ec_coeff = [[0, 0, 1, 1, 1], [1, 0, 1, 0, 1], [0, 0, 1, 0, 0], [1, 0, 0, 0, 1],[0, 0, 1, 1, 0]]\n",
    "e_lst = []\n",
    "for coeff in ec_coeff:\n",
    "    e_lst.append(EllipticCurve(GF(2),coeff))\n",
    "# p_rank = [0,1,0,1,0] (ordinary = 1, supersingular = 0)\n",
    "    \n",
    "e_pc = [] #point counts of EC, E(F_2) = [1,2,3,4,5]\n",
    "for e in e_lst:\n",
    "    e_pc.append(tuple(e.count_points(6)))\n",
    "    \n",
    "R.<T> = PolynomialRing(QQ) \n",
    "e_wp = [T^2 + (-i + 3)*T + 2 for i in range(1,6)]"
   ]
  },
  {
   "cell_type": "code",
   "execution_count": 3,
   "id": "3dea8143",
   "metadata": {},
   "outputs": [],
   "source": [
    "load(\"../Shared/pointcounts_p_rank.sage\") # data = [ point counts + p-rank ]"
   ]
  },
  {
   "cell_type": "code",
   "execution_count": 4,
   "id": "fe3e1ee9",
   "metadata": {},
   "outputs": [],
   "source": [
    "# point count check:\n",
    "# C -> E is of degree 2, so 2*#E(F_2^i) >= #C(F_2^i) \n",
    "\n",
    "d = {}\n",
    "for ecpc in e_pc:\n",
    "    for cpc in data:\n",
    "        if all(2*ecpc[i] >= cpc[0][i] for i in range(6)):\n",
    "            try:\n",
    "                d[ecpc].append(cpc)\n",
    "            except:\n",
    "                d[ecpc] = [cpc]"
   ]
  },
  {
   "cell_type": "code",
   "execution_count": 5,
   "id": "8499892f",
   "metadata": {},
   "outputs": [],
   "source": [
    "# resultant criterion: Cor 9.3 of rel class number I\n",
    "# Deuring-Shafarevich formula: gamma_C - 1 = 2*(gamma_E - 1) + t\n",
    "\n",
    "#newd[elliptic curve point count ] = [ [curve point count]+[number of geometric ram pts, e(P) > 1] ]\n",
    "\n",
    "newd = {}\n",
    "for i in range(5):\n",
    "    epc = list(d.keys())[i]\n",
    "    ewp = e_wp[i]\n",
    "    for cpc in d[epc]:\n",
    "        u = weil_poly_from_point_count(list(cpc[0]),6)\n",
    "        if gcd(ewp,u) > 1:\n",
    "            g = u//ewp\n",
    "            h1 = ewp.trace_polynomial()[0] #real Weil polys\n",
    "            h2 = g.trace_polynomial()[0]\n",
    "            if h1.resultant(h2) %2 == 0: #gcd(d=2,res(h1,h2)) = 2\n",
    "                if i % 2 == 0 and (cpc[1] <= 4): #supersingular E, cpc[1] = p-rank of cpc \n",
    "                    try:\n",
    "                        newd[epc].append(cpc[0] + [cpc[1]+1])\n",
    "                    except:\n",
    "                        newd[epc] = [cpc[0] + [cpc[1]+1]]\n",
    "                elif i % 2 == 1 and (1<= cpc[1] <= 6): #ordinary E\n",
    "                    try:\n",
    "                        newd[epc].append(cpc[0] + [cpc[1]-1])\n",
    "                    except:\n",
    "                        newd[epc] = [cpc[0] + [cpc[1]-1]]"
   ]
  },
  {
   "cell_type": "code",
   "execution_count": 6,
   "id": "07f56633",
   "metadata": {},
   "outputs": [],
   "source": [
    "d.clear()\n",
    "data.clear()"
   ]
  },
  {
   "cell_type": "code",
   "execution_count": 7,
   "id": "b4ea9171",
   "metadata": {},
   "outputs": [
    {
     "data": {
      "text/plain": [
       "[(535, (1, 5, 13, 25, 41, 65)),\n",
       " (1142, (2, 8, 14, 16, 22, 56)),\n",
       " (1719, (3, 9, 9, 9, 33, 81)),\n",
       " (781, (4, 8, 4, 16, 44, 56)),\n",
       " (1007, (5, 5, 5, 25, 25, 65))]"
      ]
     },
     "execution_count": 7,
     "metadata": {},
     "output_type": "execute_result"
    }
   ],
   "source": [
    "[(len(newd[c]),c) for c in newd.keys()]"
   ]
  },
  {
   "cell_type": "code",
   "execution_count": 8,
   "id": "0cd00978",
   "metadata": {},
   "outputs": [],
   "source": [
    "# Every F_2^i points of E lifts to either an F_2^i ram point or two F_2^2i point of C\n",
    "# #C(F_2^2i) >= 2*#E(F_2^i) - t\n",
    "\n",
    "# Every odd degree i-place of C projects to a degree i-place of E\n",
    "# if t <=2 , #C(F_2^2j-1) == #E(F_2) (mod 2) \n",
    "\n",
    "for i in range(5):\n",
    "    epc = list(newd.keys())[i]\n",
    "    tmp = newd[epc].copy()\n",
    "    for cpc in tmp:\n",
    "        for i in range(3):\n",
    "            if cpc[2*i + 1] < 2*epc[i] - cpc[-1]:\n",
    "                try:\n",
    "                    newd[epc].remove(cpc)\n",
    "                except:\n",
    "                    continue\n",
    "        try:\n",
    "            if cpc[-1] <= 2 and all( (cpc[2*i] - cpc[0]) % 2 == 1 for i in range(3)):\n",
    "                newd[epc].remove(cpc)\n",
    "        except:\n",
    "            continue    \n"
   ]
  },
  {
   "cell_type": "code",
   "execution_count": 9,
   "id": "f95544a1",
   "metadata": {},
   "outputs": [
    {
     "data": {
      "text/plain": [
       "[(531, (1, 5, 13, 25, 41, 65)),\n",
       " (1048, (2, 8, 14, 16, 22, 56)),\n",
       " (1044, (3, 9, 9, 9, 33, 81)),\n",
       " (717, (4, 8, 4, 16, 44, 56)),\n",
       " (692, (5, 5, 5, 25, 25, 65))]"
      ]
     },
     "execution_count": 9,
     "metadata": {},
     "output_type": "execute_result"
    }
   ],
   "source": [
    "[(len(newd[c]),c) for c in newd.keys()]"
   ]
  },
  {
   "cell_type": "code",
   "execution_count": 10,
   "id": "e693181a",
   "metadata": {},
   "outputs": [],
   "source": [
    "# Lemma 6.1 of \"New methods for bounding the number of points on curves over finite fields\"\n",
    "for i in range(5):\n",
    "    epc = list(newd.keys())[i]\n",
    "    tmp = newd[epc].copy()\n",
    "    e_place = place_count_from_point_count(list(epc),6)\n",
    "    for cpc in tmp:\n",
    "        c_place = place_count_from_point_count(cpc[:-1],6)\n",
    "        s = sum(k for k in range(0,6,2) if c_place[k] % 2 != 0)\n",
    "        if s > cpc[-1]:\n",
    "            try:\n",
    "                newd[epc].remove(cpc)\n",
    "            except:\n",
    "                continue\n",
    "                \n",
    "        upp = cpc[-1] - s #t - sum_{odd d, odd a_d} d = upper bound on r_1\n",
    "        tmp = []\n",
    "        for r in range(upp+1):\n",
    "            if (r - cpc[0]) % 2 == 0 and r <= 2*epc[0] - cpc[0] and r >= 2*epc[0] - 2*c_place[1] - cpc[0] and cpc[0] -r >= 0:\n",
    "                tmp.append(r)\n",
    "        if len(tmp) == 0:\n",
    "            try:\n",
    "                newd[epc].remove(cpc)\n",
    "            except:\n",
    "                continue\n",
    "        else:\n",
    "            try:\n",
    "                cpc_new = cpc + [tmp]\n",
    "                newd[epc].remove(cpc)\n",
    "                newd[epc].append(cpc_new)\n",
    "            except:\n",
    "                continue"
   ]
  },
  {
   "cell_type": "code",
   "execution_count": 11,
   "id": "e57b950b",
   "metadata": {},
   "outputs": [
    {
     "data": {
      "text/plain": [
       "[(419, (1, 5, 13, 25, 41, 65)),\n",
       " (873, (2, 8, 14, 16, 22, 56)),\n",
       " (871, (3, 9, 9, 9, 33, 81)),\n",
       " (538, (4, 8, 4, 16, 44, 56)),\n",
       " (315, (5, 5, 5, 25, 25, 65))]"
      ]
     },
     "execution_count": 11,
     "metadata": {},
     "output_type": "execute_result"
    }
   ],
   "source": [
    "[(len(newd[c]),c) for c in newd.keys()]"
   ]
  },
  {
   "cell_type": "code",
   "execution_count": 14,
   "id": "5636959a",
   "metadata": {},
   "outputs": [],
   "source": [
    "# Every inertial F_2^i point of E should lift to two F_2^2i points\n",
    "# so C(F_2^2) >= 2*i1 = 2 * number of F_2 inertial points of E \n",
    "# a1 = r1 + 2*s1 = number of degree 1 places on C\n",
    "# b1 = r1 + s1 + i1 = number of degree 1 places on E\n",
    "\n",
    "for i in range(5):\n",
    "    epc = list(newd.keys())[i]\n",
    "    tmp = newd[epc].copy()\n",
    "    for cpc in tmp:\n",
    "        cpc_temp = cpc.copy()\n",
    "        for r in cpc_temp[-1]:\n",
    "            s1 = (cpc_temp[0] - r)/2\n",
    "            i1 = epc[0] - r - s1\n",
    "            if cpc_temp[1] < 2*i1:\n",
    "                cpc[-1].remove(r)\n",
    "            if cpc_temp[6]-r == 1:  # r - r1 = 1 is not possible\n",
    "                try:\n",
    "                    cpc[-1].remove(r)\n",
    "                except:\n",
    "                    continue\n",
    "        if len(cpc[-1]) == 0:\n",
    "            try:\n",
    "                newd[epc].remove(cpc)\n",
    "            except:\n",
    "                continue"
   ]
  },
  {
   "cell_type": "code",
   "execution_count": 24,
   "id": "cada9cad",
   "metadata": {},
   "outputs": [
    {
     "data": {
      "text/plain": [
       "[(419, (1, 5, 13, 25, 41, 65)),\n",
       " (873, (2, 8, 14, 16, 22, 56)),\n",
       " (871, (3, 9, 9, 9, 33, 81)),\n",
       " (538, (4, 8, 4, 16, 44, 56)),\n",
       " (315, (5, 5, 5, 25, 25, 65))]"
      ]
     },
     "execution_count": 24,
     "metadata": {},
     "output_type": "execute_result"
    }
   ],
   "source": [
    "[(len(newd[c]),c) for c in newd.keys()]"
   ]
  },
  {
   "cell_type": "markdown",
   "id": "786e734f",
   "metadata": {},
   "source": [
    "curves_by_ramification.m only needs ramification data:\n",
    "- curve_pointcounts.txt contains possible point counts of C over each E\n",
    "- ram_tuples.txt contains (r1, r-r1), where r1 = number of F_2-rational ramification points on E and r = number of geometric ramification points on E."
   ]
  },
  {
   "cell_type": "code",
   "execution_count": 23,
   "id": "16b4e553",
   "metadata": {},
   "outputs": [
    {
     "name": "stdout",
     "output_type": "stream",
     "text": [
      "{(1, 2), (0, 4), (0, 3), (1, 4), (0, 2), (0, 5), (1, 0), (1, 3)}\n",
      "{(1, 2), (0, 4), (0, 3), (2, 0), (1, 4), (2, 3), (0, 2), (0, 5), (2, 2), (1, 0), (1, 3)}\n",
      "{(1, 2), (0, 4), (0, 3), (2, 0), (1, 4), (3, 0), (2, 3), (0, 2), (0, 5), (2, 2), (1, 0), (3, 2), (1, 3)}\n",
      "{(1, 2), (0, 4), (4, 0), (0, 3), (2, 0), (1, 4), (3, 0), (2, 3), (0, 2), (0, 5), (2, 2), (1, 0), (3, 2), (1, 3)}\n",
      "{(4, 0), (0, 4), (0, 3), (2, 0), (1, 4), (3, 0), (2, 3), (5, 0), (0, 5), (2, 2), (1, 0), (3, 2), (1, 3)}\n"
     ]
    }
   ],
   "source": [
    "for i in range(5):\n",
    "    ram_lst = {tuple([r,cpc[-2] - r]) for cpc in newd[e_pc[i]] for r in cpc[-1]}\n",
    "    print(ram_lst)"
   ]
  },
  {
   "cell_type": "code",
   "execution_count": 26,
   "id": "023bb63b",
   "metadata": {},
   "outputs": [],
   "source": [
    "for i in range(5):\n",
    "    pc_lst = {tuple(cpc[:6]) for cpc in newd[e_pc[i]]}\n",
    "    f = open(\"./data/\" + str(i+1) + \"/sanity_check/curve_pointcounts.txt\",\"w+\")\n",
    "    for ele in pc_lst:\n",
    "        f.write(str(list(ele)) + \"\\n\")\n",
    "    f.close()\n",
    "    \n",
    "    ram_lst = {tuple([r,cpc[-2] - r]) for cpc in newd[e_pc[i]] for r in cpc[-1]}\n",
    "    f = open(\"./data/\" + str(i+1) + \"/sanity_check/ram_tuples.txt\",\"w+\")\n",
    "    for ele in ram_lst:\n",
    "        f.write(str(list(ele)) + \"\\n\")\n",
    "    f.close()\n",
    "    \n",
    "    for ramtup in ram_lst:\n",
    "        f = open(\"./data/\"+ str(i+1) + \"/\" + str(ramtup[0]) + \"_\" + str(ramtup[1]) + \".txt\",\"w+\")\n",
    "        f.close()"
   ]
  },
  {
   "cell_type": "raw",
   "id": "d17b22a4",
   "metadata": {},
   "source": [
    "for i in range(5):\n",
    "    l = len(newd[e_pc[i]])\n",
    "    for j in range(0,l,25):\n",
    "        f = open(\"./data/\" + str(i+1) + \"/\" + str(j//25) + \".txt\",\"w+\")\n",
    "        tmp = newd[e_pc[i]][j:j+25]\n",
    "        for c in tmp:\n",
    "            for ram in c[-1]:\n",
    "                to_write = c[:7] + [ram]\n",
    "                f.write(str(to_write) + \"\\n\")\n",
    "        f.close()"
   ]
  },
  {
   "cell_type": "code",
   "execution_count": null,
   "id": "95664b24",
   "metadata": {},
   "outputs": [],
   "source": [
    "e_lst"
   ]
  },
  {
   "cell_type": "code",
   "execution_count": 84,
   "id": "e0a66bce",
   "metadata": {},
   "outputs": [
    {
     "name": "stdout",
     "output_type": "stream",
     "text": [
      "[1, 2, 4, 5, 8, 8]\n",
      "[2, 3, 4, 2, 4, 6]\n",
      "[3, 3, 2, 0, 6, 11]\n",
      "[4, 2, 0, 2, 8, 8]\n",
      "[5, 0, 0, 5, 4, 10]\n"
     ]
    }
   ],
   "source": [
    "for i in e_pc:\n",
    "    print(place_count_from_point_count(i,6))"
   ]
  }
 ],
 "metadata": {
  "kernelspec": {
   "display_name": "SageMath 10.2.beta1",
   "language": "sage",
   "name": "sagemath"
  },
  "language_info": {
   "codemirror_mode": {
    "name": "ipython",
    "version": 3
   },
   "file_extension": ".py",
   "mimetype": "text/x-python",
   "name": "python",
   "nbconvert_exporter": "python",
   "pygments_lexer": "ipython3",
   "version": "3.10.12"
  }
 },
 "nbformat": 4,
 "nbformat_minor": 5
}
