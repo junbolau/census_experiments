{
 "cells": [
  {
   "cell_type": "code",
   "execution_count": 1,
   "id": "072a0f11",
   "metadata": {},
   "outputs": [],
   "source": [
    "load(\"../Shared/orbits.sage\") # Group orbits\n",
    "load(\"../Shared/linalg.sage\") # Auxiliary linear algebra\n",
    "load(\"../Shared/cyclic_covers.sage\") # Cyclic covers of function fields\n",
    "load(\"../Shared/weil_poly_utils.sage\") # Utility functions for Weil polynomials\n",
    "import itertools, pandas, time\n",
    "from collections import defaultdict"
   ]
  },
  {
   "cell_type": "code",
   "execution_count": 2,
   "id": "18053c03",
   "metadata": {},
   "outputs": [],
   "source": [
    "# 5 elliptic curves over F_2 up to isom in Weierstrass form\n",
    "ec_coeff = [[0, 0, 1, 1, 1], [1, 0, 1, 0, 1], [0, 0, 1, 0, 0], [1, 0, 0, 0, 1],[0, 0, 1, 1, 0]]\n",
    "e_lst = []\n",
    "for coeff in ec_coeff:\n",
    "    e_lst.append(EllipticCurve(GF(2),coeff))\n",
    "# p_rank = [0,1,0,1,0] (ordinary = 1, supersingular = 0)\n",
    "# endomorphism rings are all ZZ\n",
    "    \n",
    "e_pc = [] #point counts of EC, E(F_2) = [1,2,3,4,5]\n",
    "for e in e_lst:\n",
    "    e_pc.append(tuple(e.count_points(6)))\n",
    "    \n",
    "R.<T> = PolynomialRing(QQ) \n",
    "e_wp = [T^2 + (-i + 3)*T + 2 for i in range(1,6)]"
   ]
  },
  {
   "cell_type": "code",
   "execution_count": 3,
   "id": "3dea8143",
   "metadata": {},
   "outputs": [],
   "source": [
    "load(\"../Shared/pointcounts_p_rank.sage\") # data = ..."
   ]
  },
  {
   "cell_type": "code",
   "execution_count": 4,
   "id": "fe3e1ee9",
   "metadata": {},
   "outputs": [],
   "source": [
    "# point count check:\n",
    "# C -> E is of degree 2, so 2*#E(F_2^i) >= #C(F_2^i) \n",
    "# every F_2^i rational point of E lifts to either F_2^i rational ramification point or two F_2^2i rational points\n",
    "# of C, so #C(F_2^2i) >= # E(F_2^i) - t\n",
    "\n",
    "d = {}\n",
    "for ecpc in e_pc:\n",
    "    for cpc in data:\n",
    "        if all(2*ecpc[i] >= cpc[0][i] for i in range(6)):\n",
    "            try:\n",
    "                d[ecpc].append(cpc)\n",
    "            except:\n",
    "                d[ecpc] = [cpc]"
   ]
  },
  {
   "cell_type": "code",
   "execution_count": 5,
   "id": "8499892f",
   "metadata": {},
   "outputs": [],
   "source": [
    "# resultant criterion: Cor 9.3 of rel class number I\n",
    "# Deuring-Shafarevich formula: gamma_C -1 = 2*(gamma_E -1) + t   (Doesn't reduce the list)\n",
    "\n",
    "newd = {}\n",
    "for i in range(5):\n",
    "    epc = list(d.keys())[i]\n",
    "    ewp = e_wp[i]\n",
    "    for cpc in d[epc]:\n",
    "        u = weil_poly_from_point_count(list(cpc[0]),6)\n",
    "        if gcd(ewp,u) > 1:\n",
    "            g = u//ewp\n",
    "            h1 = ewp.trace_polynomial()[0] #real Weil polys\n",
    "            h2 = g.trace_polynomial()[0]\n",
    "            if h1.resultant(h2) %2 == 0: #gcd(d=2,res(h1,h2)) = 2\n",
    "                if i % 2 == 0 and (-1 < cpc[1] < 5):\n",
    "                    try:\n",
    "                        newd[epc].append(cpc)\n",
    "                    except:\n",
    "                        newd[epc] = [cpc]\n",
    "                elif i % 2 == 1 and (0 < cpc[1] < 7):\n",
    "                    try:\n",
    "                        newd[epc].append(cpc)\n",
    "                    except:\n",
    "                        newd[epc] = [cpc]"
   ]
  },
  {
   "cell_type": "code",
   "execution_count": 8,
   "id": "07f56633",
   "metadata": {},
   "outputs": [],
   "source": [
    "d.clear()"
   ]
  },
  {
   "cell_type": "code",
   "execution_count": 7,
   "id": "09197552",
   "metadata": {},
   "outputs": [
    {
     "data": {
      "text/plain": [
       "[(535, (1, 5, 13, 25, 41, 65)),\n",
       " (1142, (2, 8, 14, 16, 22, 56)),\n",
       " (1719, (3, 9, 9, 9, 33, 81)),\n",
       " (781, (4, 8, 4, 16, 44, 56)),\n",
       " (1007, (5, 5, 5, 25, 25, 65))]"
      ]
     },
     "execution_count": 7,
     "metadata": {},
     "output_type": "execute_result"
    }
   ],
   "source": [
    "[(len(newd[c]),c) for c in newd.keys()]"
   ]
  },
  {
   "cell_type": "code",
   "execution_count": 16,
   "id": "2a71b315",
   "metadata": {},
   "outputs": [],
   "source": [
    "#[points counts up to F_2^6, p-rank]\n",
    "for i in range(5):\n",
    "    file = open(\"data/\" + str(i+1) + \".txt\",'w')\n",
    "    lst = newd[list(newd.keys())[i]]\n",
    "    for pt in lst:\n",
    "        tmp = pt[0] + [pt[1]]\n",
    "        file.write(str(list(tmp)) + \"\\n\")\n",
    "    file.close()"
   ]
  },
  {
   "cell_type": "code",
   "execution_count": null,
   "id": "f71d3628",
   "metadata": {},
   "outputs": [],
   "source": []
  },
  {
   "cell_type": "code",
   "execution_count": null,
   "id": "f1e39c96",
   "metadata": {},
   "outputs": [],
   "source": []
  },
  {
   "cell_type": "code",
   "execution_count": null,
   "id": "3b169496",
   "metadata": {},
   "outputs": [],
   "source": []
  },
  {
   "cell_type": "code",
   "execution_count": null,
   "id": "95fd2239",
   "metadata": {},
   "outputs": [],
   "source": []
  }
 ],
 "metadata": {
  "kernelspec": {
   "display_name": "SageMath 10.2.beta1",
   "language": "sage",
   "name": "sagemath"
  },
  "language_info": {
   "codemirror_mode": {
    "name": "ipython",
    "version": 3
   },
   "file_extension": ".py",
   "mimetype": "text/x-python",
   "name": "python",
   "nbconvert_exporter": "python",
   "pygments_lexer": "ipython3",
   "version": "3.10.12"
  }
 },
 "nbformat": 4,
 "nbformat_minor": 5
}
