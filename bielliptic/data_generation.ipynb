{
 "cells": [
  {
   "cell_type": "code",
   "execution_count": 1,
   "id": "072a0f11",
   "metadata": {},
   "outputs": [],
   "source": [
    "load(\"../Shared/orbits.sage\") # Group orbits\n",
    "load(\"../Shared/linalg.sage\") # Auxiliary linear algebra\n",
    "load(\"../Shared/cyclic_covers.sage\") # Cyclic covers of function fields\n",
    "load(\"../Shared/weil_poly_utils.sage\") # Utility functions for Weil polynomials"
   ]
  },
  {
   "cell_type": "code",
   "execution_count": 67,
   "id": "18053c03",
   "metadata": {},
   "outputs": [],
   "source": [
    "# 5 elliptic curves over F_2 up to isom in Weierstrass form\n",
    "ec_coeff = [[0, 0, 1, 1, 1], [1, 0, 1, 0, 1], [0, 0, 1, 0, 0], [1, 0, 0, 0, 1],[0, 0, 1, 1, 0]]\n",
    "e_lst = []\n",
    "for coeff in ec_coeff:\n",
    "    e_lst.append(EllipticCurve(GF(2),coeff))\n",
    "e_pc = [] #point count list\n",
    "for e in e_lst:\n",
    "    e_pc.append(tuple(e.count_points(6)))"
   ]
  },
  {
   "cell_type": "code",
   "execution_count": 65,
   "id": "3dea8143",
   "metadata": {},
   "outputs": [],
   "source": [
    "load(\"../Shared/pointcounts.sage\") #data = ..."
   ]
  },
  {
   "cell_type": "code",
   "execution_count": 76,
   "id": "fe3e1ee9",
   "metadata": {},
   "outputs": [],
   "source": [
    "d = {}\n",
    "for ecpc in e_pc:\n",
    "    for cpc in data:\n",
    "        if all(2*ecpc[i] >= cpc[i] for i in range(6)):\n",
    "            try:\n",
    "                d[ecpc].append(cpc)\n",
    "            except:\n",
    "                d[ecpc] = [cpc]"
   ]
  },
  {
   "cell_type": "code",
   "execution_count": 80,
   "id": "9be62f5f",
   "metadata": {},
   "outputs": [
    {
     "data": {
      "text/plain": [
       "196967"
      ]
     },
     "execution_count": 80,
     "metadata": {},
     "output_type": "execute_result"
    }
   ],
   "source": [
    "sum(len(d[k]) for k in d.keys())"
   ]
  },
  {
   "cell_type": "code",
   "execution_count": null,
   "id": "aecaf2b1",
   "metadata": {},
   "outputs": [],
   "source": [
    "for k in e_pc:\n",
    "    for pc in d[k]:\n",
    "        \n",
    "\n",
    "weil_poly_from_point_count"
   ]
  },
  {
   "cell_type": "code",
   "execution_count": null,
   "id": "57a5a776",
   "metadata": {},
   "outputs": [],
   "source": []
  },
  {
   "cell_type": "code",
   "execution_count": null,
   "id": "33e4cfda",
   "metadata": {},
   "outputs": [],
   "source": []
  },
  {
   "cell_type": "code",
   "execution_count": null,
   "id": "1dbb6c8e",
   "metadata": {},
   "outputs": [],
   "source": []
  },
  {
   "cell_type": "code",
   "execution_count": null,
   "id": "5fb80522",
   "metadata": {},
   "outputs": [],
   "source": []
  },
  {
   "cell_type": "code",
   "execution_count": 62,
   "id": "045ea6f7",
   "metadata": {},
   "outputs": [],
   "source": [
    "load(\"../Shared/weil_poly_dim6.sage\")\n",
    "#load(\"../Shared/pointcounts.sage\") #data = .."
   ]
  },
  {
   "cell_type": "code",
   "execution_count": null,
   "id": "0cc2ac87",
   "metadata": {},
   "outputs": [],
   "source": [
    "e_wp = []\n",
    "for ptct in e_pc:\n",
    "    e_wp.append(weil_poly_from_point_count(ptct,1))"
   ]
  },
  {
   "cell_type": "code",
   "execution_count": null,
   "id": "6625ac69",
   "metadata": {},
   "outputs": [],
   "source": []
  },
  {
   "cell_type": "code",
   "execution_count": null,
   "id": "a503a8eb",
   "metadata": {},
   "outputs": [],
   "source": []
  },
  {
   "cell_type": "code",
   "execution_count": null,
   "id": "0c2fba41",
   "metadata": {},
   "outputs": [],
   "source": []
  },
  {
   "cell_type": "code",
   "execution_count": null,
   "id": "9e648ddb",
   "metadata": {},
   "outputs": [],
   "source": []
  },
  {
   "cell_type": "code",
   "execution_count": 3,
   "id": "bfab35cb",
   "metadata": {},
   "outputs": [],
   "source": [
    "# upper bounds for #C(F_2^i) for genus 6 curves from manypoints\n",
    "# upper_bounds = [10, 20, 34, 65, 96]\n",
    "\n",
    "d = defaultdict(list)\n",
    "for i in itertools.product([*range(10)],[*range(20)],[*range(34)],[*range(65)],[*range(96)],[*range(161)]):\n",
    "    if i[0] <= i[1] <= i[2] <= i[3] <= i[4] <= i[5] <= i[6]:\n",
    "        lst.append(i)\n",
    "        \n",
    "    for t in lst:\n",
    "        u = weil_poly_from_point_count(t, 6)\n",
    "        for (f,_) in u.factor():\n",
    "            if f.degree() == 2:\n",
    "                try:\n",
    "                    g = u//f\n",
    "                    h1 = f.trace_polynomial()[0]\n",
    "                    h2 = g.trace_polynomial()[0]\n",
    "                    if h1.resultant(h2) %2 == 0:\n",
    "                        c = f[1]+3\n",
    "                        d[c].append(t[:4])\n",
    "                except:\n",
    "                    lst.remove(t)\n",
    "                    continue\n",
    "            else:\n",
    "                continue\n",
    "    [(c, set(d[c])) for c in d]"
   ]
  },
  {
   "cell_type": "code",
   "execution_count": 14,
   "id": "9cce5156",
   "metadata": {},
   "outputs": [
    {
     "data": {
      "text/plain": [
       "T^12 + T^11 + 5*T^10 + 7*T^9 + 15*T^8 + 19*T^7 + 36*T^6 + 38*T^5 + 60*T^4 + 56*T^3 + 80*T^2 + 32*T + 64"
      ]
     },
     "execution_count": 14,
     "metadata": {},
     "output_type": "execute_result"
    }
   ],
   "source": [
    "u = weil_poly_from_point_count(targets6[0],6)\n",
    "u"
   ]
  },
  {
   "cell_type": "code",
   "execution_count": 17,
   "id": "f44d17d2",
   "metadata": {},
   "outputs": [
    {
     "name": "stdout",
     "output_type": "stream",
     "text": [
      "T^2 - T + 2 -1\n",
      "T^2 + 2 0\n",
      "T^8 + 2*T^7 + 3*T^6 + 4*T^5 + 7*T^4 + 8*T^3 + 12*T^2 + 16*T + 16 16\n"
     ]
    }
   ],
   "source": [
    "for f,_ in u.factor():\n",
    "    print(f,f[1])"
   ]
  },
  {
   "cell_type": "code",
   "execution_count": null,
   "id": "bc1d491b",
   "metadata": {},
   "outputs": [],
   "source": [
    "for (f,_) in u.factor():\n",
    "    if f.degree() == 2:\n",
    "        g = u//f\n",
    "        h1 = f.trace_polynomial()[0]\n",
    "        h2 = g.trace_polynomial()[0]\n",
    "        if h1.resultant(h2) %2 == 0:\n",
    "            c = f[1]+3 #q+1\n",
    "            d[c].append(t[:4])\n",
    "[(c, set(d[c])) for c in d]"
   ]
  },
  {
   "cell_type": "code",
   "execution_count": null,
   "id": "3c127843",
   "metadata": {},
   "outputs": [],
   "source": []
  },
  {
   "cell_type": "code",
   "execution_count": 1,
   "id": "46028a11",
   "metadata": {},
   "outputs": [],
   "source": [
    "x = var('x')\n",
    "\n",
    "f = x^2 + x\n",
    "g = x^2 + 1"
   ]
  },
  {
   "cell_type": "code",
   "execution_count": 2,
   "id": "fd5a2e3e",
   "metadata": {},
   "outputs": [],
   "source": [
    "f.resultant??"
   ]
  },
  {
   "cell_type": "code",
   "execution_count": null,
   "id": "6c12dc0d",
   "metadata": {},
   "outputs": [],
   "source": []
  }
 ],
 "metadata": {
  "kernelspec": {
   "display_name": "SageMath 10.2.beta1",
   "language": "sage",
   "name": "sagemath"
  },
  "language_info": {
   "codemirror_mode": {
    "name": "ipython",
    "version": 3
   },
   "file_extension": ".py",
   "mimetype": "text/x-python",
   "name": "python",
   "nbconvert_exporter": "python",
   "pygments_lexer": "ipython3",
   "version": "3.10.12"
  }
 },
 "nbformat": 4,
 "nbformat_minor": 5
}
