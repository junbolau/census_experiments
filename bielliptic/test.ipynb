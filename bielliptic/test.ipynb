{
 "cells": [
  {
   "cell_type": "raw",
   "id": "3e5c7d93",
   "metadata": {},
   "source": [
    "Create files r_r1.txt where (r,r-r1)\n",
    "- delete r-r1 = 1 files"
   ]
  },
  {
   "cell_type": "code",
   "execution_count": 5,
   "id": "0eeb4603",
   "metadata": {},
   "outputs": [],
   "source": [
    "for r in range(1,6):\n",
    "    path = '/home/jun/Documents/Github/genus_6_census/bielliptic/data/t' + str(r) + '/'\n",
    "    for i in range(0,6):\n",
    "        for j in range(0,6):\n",
    "            if i + j <= 5:\n",
    "                filename = path + str(i) + '_' + str(j) + '.txt'\n",
    "                f = open(filename,'w')\n",
    "                f.close()"
   ]
  },
  {
   "cell_type": "code",
   "execution_count": null,
   "id": "78e95f97",
   "metadata": {},
   "outputs": [],
   "source": [
    "import os\n",
    "\n",
    "for i in range(5):\n",
    "    directory = './data/t' + str(i+1)\n",
    "            \n",
    "    R.<x,y> = PolynomialRing(GF(2))\n",
    "    eqns = {}\n",
    "    for filename in os.listdir(directory):\n",
    "        if filename.endswith('.txt') and not filename == 'pre_isom.txt':\n",
    "            with open(os.path.join(directory, filename)) as f:\n",
    "                fr = f.readlines()\n",
    "                for j in range(0,len(fr)):\n",
    "                    pol = R(sage_eval(fr[j], {'x':x,'y':y})[0])\n",
    "                    pol_pc = R(sage_eval(fr[j], {'x':x,'y':y})[1])\n",
    "                    if tuple(pol_pc) in data:\n",
    "                        try:\n",
    "                            eqns[tuple(pol_pc)].add(pol)\n",
    "                        except:\n",
    "                            eqns[tuple(pol_pc)] = {pol}\n",
    "            f.close()\n",
    "    g = open(\"./data/sorted_data/\" + str(i+1) +\".txt\",\"a+\")\n",
    "    for pc in eqns:\n",
    "        for pol in eqns[pc]:\n",
    "            g.write(str([list(pc),[pol]]) + \"\\n\")\n",
    "    g.close()"
   ]
  }
 ],
 "metadata": {
  "kernelspec": {
   "display_name": "SageMath 10.2.beta1",
   "language": "sage",
   "name": "sagemath"
  },
  "language_info": {
   "codemirror_mode": {
    "name": "ipython",
    "version": 3
   },
   "file_extension": ".py",
   "mimetype": "text/x-python",
   "name": "python",
   "nbconvert_exporter": "python",
   "pygments_lexer": "ipython3",
   "version": "3.10.12"
  }
 },
 "nbformat": 4,
 "nbformat_minor": 5
}
