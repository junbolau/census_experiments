{
 "cells": [
  {
   "cell_type": "code",
   "execution_count": 5,
   "id": "0eeb4603",
   "metadata": {},
   "outputs": [],
   "source": [
    "for r in range(1,6):\n",
    "    path = '/home/jun/Documents/Github/genus_6_census/bielliptic/data/t' + str(r) + '/'\n",
    "    for i in range(0,6):\n",
    "        for j in range(0,6):\n",
    "            if i + j <= 5:\n",
    "                filename = path + str(i) + '_' + str(j) + '.txt'\n",
    "                f = open(filename,'w')\n",
    "                f.close()"
   ]
  },
  {
   "cell_type": "code",
   "execution_count": 3,
   "id": "aa471474",
   "metadata": {},
   "outputs": [
    {
     "data": {
      "text/plain": [
       "'/home/jun/Documents/Github/genus_6_census/bielliptic'"
      ]
     },
     "execution_count": 3,
     "metadata": {},
     "output_type": "execute_result"
    }
   ],
   "source": [
    "pwd"
   ]
  },
  {
   "cell_type": "code",
   "execution_count": null,
   "id": "78e95f97",
   "metadata": {},
   "outputs": [],
   "source": []
  }
 ],
 "metadata": {
  "kernelspec": {
   "display_name": "SageMath 10.2.beta1",
   "language": "sage",
   "name": "sagemath"
  },
  "language_info": {
   "codemirror_mode": {
    "name": "ipython",
    "version": 3
   },
   "file_extension": ".py",
   "mimetype": "text/x-python",
   "name": "python",
   "nbconvert_exporter": "python",
   "pygments_lexer": "ipython3",
   "version": "3.10.12"
  }
 },
 "nbformat": 4,
 "nbformat_minor": 5
}
