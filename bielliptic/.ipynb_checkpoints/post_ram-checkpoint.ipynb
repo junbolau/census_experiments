{
 "cells": [
  {
   "cell_type": "markdown",
   "id": "536d3628",
   "metadata": {},
   "source": [
    "Run this after curves_by_ramification.m\n",
    "\n",
    "This cell compares the point counts from the construction of curves via ramification divisors with the point counts from data_generation.ipynb, i.e., if the point counts match, save them in pre_isom.txt, sorted by bins of point counts."
   ]
  },
  {
   "cell_type": "code",
   "execution_count": 1,
   "id": "147749fb",
   "metadata": {},
   "outputs": [],
   "source": [
    "import os\n",
    "\n",
    "for i in range(5):\n",
    "    directory = './data/' + str(i+1)\n",
    "    \n",
    "    curve_fp =  directory + '/sanity_check/curve_pointcounts.txt'\n",
    "    curve_pc = open(curve_fp,\"r\").readlines()\n",
    "    curve_pc_lst = []\n",
    "    for pc in curve_pc:\n",
    "        pc = eval(pc.strip('\\n'))\n",
    "        curve_pc_lst.append(pc)\n",
    "        \n",
    "    R.<x,y> = PolynomialRing(GF(2))\n",
    "    eqns = {}\n",
    "    for filename in os.listdir(directory):\n",
    "        if filename.endswith('.txt') and not filename == 'pre_isom.txt':\n",
    "            with open(os.path.join(directory, filename)) as f:\n",
    "                fr = f.readlines()\n",
    "                \n",
    "                for j in range(0,len(fr)//2,2):\n",
    "                    pol = R(fr[j])\n",
    "                    pol_pc = eval(fr[j+1])\n",
    "                    if pol_pc in curve_pc_lst:\n",
    "                        try:\n",
    "                            eqns[tuple(pol_pc)].add(pol)\n",
    "                        except:\n",
    "                            eqns[tuple(pol_pc)] = {pol}\n",
    "            f.close()\n",
    "    g = open(\"./data/sorted_data/\" + str(i+1) +\".txt\",\"a+\")\n",
    "    for pc in eqns:\n",
    "        for pol in eqns[pc]:\n",
    "            g.write(str([list(pc),[pol]]) + \"\\n\")\n",
    "    g.close()"
   ]
  },
  {
   "cell_type": "code",
   "execution_count": 2,
   "id": "85087e12",
   "metadata": {},
   "outputs": [
    {
     "data": {
      "text/plain": [
       "1021"
      ]
     },
     "execution_count": 2,
     "metadata": {},
     "output_type": "execute_result"
    }
   ],
   "source": [
    "164 + 324 + 248 + 160 + 125"
   ]
  },
  {
   "cell_type": "code",
   "execution_count": null,
   "id": "f89d1ef2",
   "metadata": {},
   "outputs": [],
   "source": []
  },
  {
   "cell_type": "code",
   "execution_count": 2,
   "id": "8498fe6e",
   "metadata": {},
   "outputs": [],
   "source": [
    "curve_fp =  '/home/jun/Documents/Github/genus_6_census/Shared/pointcounts.sage'\n",
    "load(curve_fp)"
   ]
  },
  {
   "cell_type": "code",
   "execution_count": 5,
   "id": "0bc38877",
   "metadata": {},
   "outputs": [],
   "source": [
    "import os\n",
    "\n",
    "for i in range(5):\n",
    "    directory = './data/t' + str(i+1)\n",
    "            \n",
    "    R.<x,y> = PolynomialRing(GF(2))\n",
    "    eqns = {}\n",
    "    for filename in os.listdir(directory):\n",
    "        if filename.endswith('.txt') and not filename == 'pre_isom.txt':\n",
    "            with open(os.path.join(directory, filename)) as f:\n",
    "                fr = f.readlines()\n",
    "                for j in range(0,len(fr)):\n",
    "                    pol = R(sage_eval(fr[j], {'x':x,'y':y})[0])\n",
    "                    pol_pc = R(sage_eval(fr[j], {'x':x,'y':y})[1])\n",
    "                    if tuple(pol_pc) in data:\n",
    "                        try:\n",
    "                            eqns[tuple(pol_pc)].add(pol)\n",
    "                        except:\n",
    "                            eqns[tuple(pol_pc)] = {pol}\n",
    "            f.close()\n",
    "    g = open(\"./data/sorted_data/t\" + str(i+1) +\".txt\",\"a+\")\n",
    "    for pc in eqns:\n",
    "        for pol in eqns[pc]:\n",
    "            g.write(str([list(pc),[pol]]) + \"\\n\")\n",
    "    g.close()"
   ]
  },
  {
   "cell_type": "code",
   "execution_count": 1,
   "id": "6d85aa7d",
   "metadata": {},
   "outputs": [
    {
     "data": {
      "text/plain": [
       "'/home/jun/Documents/Github/genus_6_census/bielliptic'"
      ]
     },
     "execution_count": 1,
     "metadata": {},
     "output_type": "execute_result"
    }
   ],
   "source": [
    "pwd"
   ]
  },
  {
   "cell_type": "code",
   "execution_count": null,
   "id": "f90829c9",
   "metadata": {},
   "outputs": [],
   "source": []
  }
 ],
 "metadata": {
  "kernelspec": {
   "display_name": "SageMath 10.2.beta1",
   "language": "sage",
   "name": "sagemath"
  },
  "language_info": {
   "codemirror_mode": {
    "name": "ipython",
    "version": 3
   },
   "file_extension": ".py",
   "mimetype": "text/x-python",
   "name": "python",
   "nbconvert_exporter": "python",
   "pygments_lexer": "ipython3",
   "version": "3.10.12"
  }
 },
 "nbformat": 4,
 "nbformat_minor": 5
}
