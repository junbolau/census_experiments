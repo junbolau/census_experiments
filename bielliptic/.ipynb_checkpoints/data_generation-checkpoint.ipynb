{
 "cells": [
  {
   "cell_type": "code",
   "execution_count": 5,
   "id": "072a0f11",
   "metadata": {},
   "outputs": [
    {
     "name": "stderr",
     "output_type": "stream",
     "text": [
      "/usr/lib/python3.11/site-packages/pandas/core/dtypes/cast.py:1641: DeprecationWarning: np.find_common_type is deprecated.  Please use `np.result_type` or `np.promote_types`.\n",
      "See https://numpy.org/devdocs/release/1.25.0-notes.html and the docs for more information.  (Deprecated NumPy 1.25)\n",
      "  return np.find_common_type(types, [])\n"
     ]
    }
   ],
   "source": [
    "load(\"preamble.sage\")"
   ]
  },
  {
   "cell_type": "code",
   "execution_count": 2,
   "id": "94778a41",
   "metadata": {},
   "outputs": [],
   "source": [
    "import itertools\n",
    "import ast"
   ]
  },
  {
   "cell_type": "code",
   "execution_count": 3,
   "id": "bfab35cb",
   "metadata": {},
   "outputs": [],
   "source": [
    "# upper bounds for #C(F_2^i) for genus 6 curves from manypoints\n",
    "# upper_bounds = [10, 20, 34, 65, 96]\n",
    "\n",
    "d = defaultdict(list)\n",
    "for i in itertools.product([*range(10)],[*range(20)],[*range(34)],[*range(65)],[*range(96)],[*range(161)]):\n",
    "    if i[0] <= i[1] <= i[2] <= i[3] <= i[4] <= i[5] <= i[6]:\n",
    "        lst.append(i)\n",
    "        \n",
    "    for t in lst:\n",
    "        u = weil_poly_from_point_count(t, 6)\n",
    "        for (f,_) in u.factor():\n",
    "            if f.degree() == 2:\n",
    "                try:\n",
    "                    g = u//f\n",
    "                    h1 = f.trace_polynomial()[0]\n",
    "                    h2 = g.trace_polynomial()[0]\n",
    "                    if h1.resultant(h2) %2 == 0:\n",
    "                        c = f[1]+3\n",
    "                        d[c].append(t[:4])\n",
    "                except:\n",
    "                    lst.remove(t)\n",
    "                    continue\n",
    "            else:\n",
    "                continue\n",
    "    [(c, set(d[c])) for c in d]"
   ]
  },
  {
   "cell_type": "code",
   "execution_count": null,
   "id": "e21b0b9f",
   "metadata": {},
   "outputs": [],
   "source": []
  },
  {
   "cell_type": "code",
   "execution_count": null,
   "id": "045ea6f7",
   "metadata": {},
   "outputs": [],
   "source": []
  },
  {
   "cell_type": "code",
   "execution_count": null,
   "id": "dcfef022",
   "metadata": {},
   "outputs": [],
   "source": []
  },
  {
   "cell_type": "code",
   "execution_count": 14,
   "id": "9cce5156",
   "metadata": {},
   "outputs": [
    {
     "data": {
      "text/plain": [
       "T^12 + T^11 + 5*T^10 + 7*T^9 + 15*T^8 + 19*T^7 + 36*T^6 + 38*T^5 + 60*T^4 + 56*T^3 + 80*T^2 + 32*T + 64"
      ]
     },
     "execution_count": 14,
     "metadata": {},
     "output_type": "execute_result"
    }
   ],
   "source": [
    "u = weil_poly_from_point_count(targets6[0],6)\n",
    "u"
   ]
  },
  {
   "cell_type": "code",
   "execution_count": 17,
   "id": "f44d17d2",
   "metadata": {},
   "outputs": [
    {
     "name": "stdout",
     "output_type": "stream",
     "text": [
      "T^2 - T + 2 -1\n",
      "T^2 + 2 0\n",
      "T^8 + 2*T^7 + 3*T^6 + 4*T^5 + 7*T^4 + 8*T^3 + 12*T^2 + 16*T + 16 16\n"
     ]
    }
   ],
   "source": [
    "for f,_ in u.factor():\n",
    "    print(f,f[1])"
   ]
  },
  {
   "cell_type": "code",
   "execution_count": null,
   "id": "bc1d491b",
   "metadata": {},
   "outputs": [],
   "source": [
    "for (f,_) in u.factor():\n",
    "    if f.degree() == 2:\n",
    "        g = u//f\n",
    "        h1 = f.trace_polynomial()[0]\n",
    "        h2 = g.trace_polynomial()[0]\n",
    "        if h1.resultant(h2) %2 == 0:\n",
    "            c = f[1]+3 #q+1\n",
    "            d[c].append(t[:4])\n",
    "[(c, set(d[c])) for c in d]"
   ]
  },
  {
   "cell_type": "code",
   "execution_count": null,
   "id": "3c127843",
   "metadata": {},
   "outputs": [],
   "source": []
  },
  {
   "cell_type": "code",
   "execution_count": 1,
   "id": "46028a11",
   "metadata": {},
   "outputs": [],
   "source": [
    "x = var('x')\n",
    "\n",
    "f = x^2 + x\n",
    "g = x^2 + 1"
   ]
  },
  {
   "cell_type": "code",
   "execution_count": 2,
   "id": "fd5a2e3e",
   "metadata": {},
   "outputs": [],
   "source": [
    "f.resultant??"
   ]
  },
  {
   "cell_type": "code",
   "execution_count": null,
   "id": "6c12dc0d",
   "metadata": {},
   "outputs": [],
   "source": []
  }
 ],
 "metadata": {
  "kernelspec": {
   "display_name": "SageMath 10.2.beta1",
   "language": "sage",
   "name": "sagemath"
  },
  "language_info": {
   "codemirror_mode": {
    "name": "ipython",
    "version": 3
   },
   "file_extension": ".py",
   "mimetype": "text/x-python",
   "name": "python",
   "nbconvert_exporter": "python",
   "pygments_lexer": "ipython3",
   "version": "3.10.12"
  }
 },
 "nbformat": 4,
 "nbformat_minor": 5
}
