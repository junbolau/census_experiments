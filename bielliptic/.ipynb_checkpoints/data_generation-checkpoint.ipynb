{
 "cells": [
  {
   "cell_type": "code",
   "execution_count": 1,
   "id": "072a0f11",
   "metadata": {},
   "outputs": [],
   "source": [
    "load(\"../Shared/orbits.sage\") # Group orbits\n",
    "load(\"../Shared/linalg.sage\") # Auxiliary linear algebra\n",
    "load(\"../Shared/cyclic_covers.sage\") # Cyclic covers of function fields\n",
    "load(\"../Shared/weil_poly_utils.sage\") # Utility functions for Weil polynomials\n",
    "import itertools, pandas, time\n",
    "from collections import defaultdict"
   ]
  },
  {
   "cell_type": "code",
   "execution_count": 2,
   "id": "18053c03",
   "metadata": {},
   "outputs": [],
   "source": [
    "# 5 elliptic curves over F_2 up to isom in Weierstrass form\n",
    "ec_coeff = [[0, 0, 1, 1, 1], [1, 0, 1, 0, 1], [0, 0, 1, 0, 0], [1, 0, 0, 0, 1],[0, 0, 1, 1, 0]]\n",
    "e_lst = []\n",
    "for coeff in ec_coeff:\n",
    "    e_lst.append(EllipticCurve(GF(2),coeff))\n",
    "# p_rank = [0,1,0,1,0] (ordinary = 1, supersingular = 0)\n",
    "    \n",
    "e_pc = [] #point counts of EC, E(F_2) = [1,2,3,4,5]\n",
    "for e in e_lst:\n",
    "    e_pc.append(tuple(e.count_points(6)))\n",
    "    \n",
    "R.<T> = PolynomialRing(QQ) \n",
    "e_wp = [T^2 + (-i + 3)*T + 2 for i in range(1,6)]"
   ]
  },
  {
   "cell_type": "code",
   "execution_count": 3,
   "id": "3dea8143",
   "metadata": {},
   "outputs": [],
   "source": [
    "load(\"../Shared/pointcounts_p_rank.sage\") # data = [ point counts + p-rank ]"
   ]
  },
  {
   "cell_type": "code",
   "execution_count": 4,
   "id": "63a391b2",
   "metadata": {},
   "outputs": [],
   "source": [
    "# resultant 2 criterion: Cor 9.3 of rel class number I\n",
    "d = {}\n",
    "for t in data:\n",
    "    u = weil_poly_from_point_count(list(t[0]), 6)\n",
    "    for (f,_) in u.factor():\n",
    "        if f.degree() == 2:\n",
    "            g = u//f\n",
    "            h1 = f.trace_polynomial()[0]\n",
    "            h2 = g.trace_polynomial()[0]\n",
    "            if h1.resultant(h2) %2 == 0:\n",
    "                c = f[1]+3\n",
    "                for k in e_pc:\n",
    "                    if c == k[0]:\n",
    "                        try:\n",
    "                            d[k].append(t)\n",
    "                        except:\n",
    "                            d[k] = [t]"
   ]
  },
  {
   "cell_type": "code",
   "execution_count": 5,
   "id": "df5e9b51",
   "metadata": {},
   "outputs": [
    {
     "data": {
      "text/plain": [
       "[((1, 5, 13, 25, 41, 65), 5024),\n",
       " ((5, 5, 5, 25, 25, 65), 3265),\n",
       " ((3, 9, 9, 9, 33, 81), 3649),\n",
       " ((2, 8, 14, 16, 22, 56), 4667),\n",
       " ((4, 8, 4, 16, 44, 56), 3372)]"
      ]
     },
     "execution_count": 5,
     "metadata": {},
     "output_type": "execute_result"
    }
   ],
   "source": [
    "[(c,len(d[c])) for c in d.keys()]"
   ]
  },
  {
   "cell_type": "code",
   "execution_count": 6,
   "id": "9cefa650",
   "metadata": {},
   "outputs": [],
   "source": [
    "# point count check:\n",
    "# C -> E is of degree 2, so 2*#E(F_2^i) >= #C(F_2^i) \n",
    "\n",
    "for ecpc in e_pc:\n",
    "    for cpc in d[ecpc]:\n",
    "        if all(2*ecpc[i] >= cpc[0][i] for i in range(6)):\n",
    "            try:\n",
    "                d[ecpc].remove(cpc)\n",
    "            except:\n",
    "                continue"
   ]
  },
  {
   "cell_type": "code",
   "execution_count": 7,
   "id": "f4449791",
   "metadata": {},
   "outputs": [
    {
     "data": {
      "text/plain": [
       "[((1, 5, 13, 25, 41, 65), 3542),\n",
       " ((5, 5, 5, 25, 25, 65), 2468),\n",
       " ((3, 9, 9, 9, 33, 81), 2716),\n",
       " ((2, 8, 14, 16, 22, 56), 2920),\n",
       " ((4, 8, 4, 16, 44, 56), 2518)]"
      ]
     },
     "execution_count": 7,
     "metadata": {},
     "output_type": "execute_result"
    }
   ],
   "source": [
    "[(c,len(d[c])) for c in d.keys()]"
   ]
  },
  {
   "cell_type": "code",
   "execution_count": 8,
   "id": "4d884baf",
   "metadata": {},
   "outputs": [],
   "source": [
    "# Deuring-Shafarevich formula: gamma_C - 1 = 2*(gamma_E - 1) + t\n",
    "\n",
    "#newd[elliptic curve point count ] = [ [curve point count]+[number of geometric ram pts, e(P) > 1] ]\n",
    "\n",
    "newd = {}\n",
    "\n",
    "for i in range(5):\n",
    "    epc = e_pc[i]\n",
    "    for cpc in d[epc]:\n",
    "        if i % 2 == 0 and (cpc[1] <= 4): #supersingular E, cpc[1] = p-rank of cpc = 0\n",
    "            try:\n",
    "                newd[epc].append(cpc[0] + [cpc[1]+1])\n",
    "            except:\n",
    "                newd[epc] = [cpc[0] + [cpc[1]+1]]\n",
    "        elif i % 2 == 1 and (1<= cpc[1] <= 6): #ordinary E, cpc[1] = 1\n",
    "            try:\n",
    "                newd[epc].append(cpc[0] + [cpc[1]-1])\n",
    "            except:\n",
    "                newd[epc] = [cpc[0] + [cpc[1]-1]]"
   ]
  },
  {
   "cell_type": "code",
   "execution_count": 9,
   "id": "38d6c936",
   "metadata": {},
   "outputs": [],
   "source": [
    "d.clear()\n",
    "data.clear()"
   ]
  },
  {
   "cell_type": "code",
   "execution_count": 10,
   "id": "0cd00978",
   "metadata": {},
   "outputs": [],
   "source": [
    "# Every F_2^i points of E lifts to either an F_2^i ram point or two F_2^2i point of C\n",
    "# #C(F_2^2i) >= 2*#E(F_2^i) - t\n",
    "\n",
    "# Every odd degree i-place of C projects to a degree i-place of E\n",
    "# if t <=2 , #C(F_2^2j-1) == #C(F_2) (mod 2) \n",
    "\n",
    "for i in range(5):\n",
    "    epc = list(newd.keys())[i]\n",
    "    tmp = newd[epc].copy()\n",
    "    for cpc in tmp:\n",
    "        for i in range(3):\n",
    "            if cpc[2*i + 1] < 2*epc[i] - cpc[-1]:\n",
    "                try:\n",
    "                    newd[epc].remove(cpc)\n",
    "                except:\n",
    "                    continue\n",
    "        try:\n",
    "            if cpc[-1] <= 2 and all( (cpc[2*i] - cpc[0]) % 2 == 1 for i in range(3)):\n",
    "                newd[epc].remove(cpc)\n",
    "        except:\n",
    "            continue    \n"
   ]
  },
  {
   "cell_type": "code",
   "execution_count": 11,
   "id": "d2de1a6a",
   "metadata": {},
   "outputs": [
    {
     "data": {
      "text/plain": [
       "[((1, 5, 13, 25, 41, 65), 3514),\n",
       " ((2, 8, 14, 16, 22, 56), 2704),\n",
       " ((3, 9, 9, 9, 33, 81), 2331),\n",
       " ((4, 8, 4, 16, 44, 56), 2337),\n",
       " ((5, 5, 5, 25, 25, 65), 2063)]"
      ]
     },
     "execution_count": 11,
     "metadata": {},
     "output_type": "execute_result"
    }
   ],
   "source": [
    "[(c,len(newd[c])) for c in newd.keys()]"
   ]
  },
  {
   "cell_type": "code",
   "execution_count": 12,
   "id": "e693181a",
   "metadata": {},
   "outputs": [],
   "source": [
    "# Lemma 6.1 of \"New methods for bounding the number of points on curves over finite fields\"\n",
    "for i in range(5):\n",
    "    epc = e_pc[i]\n",
    "    tmp = newd[epc].copy()\n",
    "    e_place = place_count_from_point_count(list(epc),6)\n",
    "    for cpc in tmp: # part (3)\n",
    "        c_place = place_count_from_point_count(cpc[:-1],6)\n",
    "        s = sum(k for k in range(0,6,2) if c_place[k] % 2 != 0)\n",
    "        if s > cpc[-1]:\n",
    "            try:\n",
    "                newd[epc].remove(cpc)\n",
    "            except:\n",
    "                continue\n",
    "                \n",
    "        upp = cpc[-1] - s #t - sum_{odd d, odd a_d} d = upper bound on r_1\n",
    "        tmp = []\n",
    "        for r in range(upp+1): #parts (1), (2)\n",
    "            if (r - cpc[0]) % 2 == 0 and r <= 2*epc[0] - cpc[0] and r >= 2*epc[0] - 2*c_place[1] - cpc[0] and cpc[0] -r >= 0:\n",
    "                tmp.append(r)\n",
    "        if len(tmp) == 0:\n",
    "            try:\n",
    "                newd[epc].remove(cpc)\n",
    "            except:\n",
    "                continue\n",
    "        else:\n",
    "            try:\n",
    "                cpc_new = cpc + [tmp]\n",
    "                newd[epc].remove(cpc)\n",
    "                newd[epc].append(cpc_new)\n",
    "            except:\n",
    "                continue"
   ]
  },
  {
   "cell_type": "code",
   "execution_count": 14,
   "id": "954b42f7",
   "metadata": {},
   "outputs": [
    {
     "data": {
      "text/plain": [
       "[((1, 5, 13, 25, 41, 65), 1597),\n",
       " ((2, 8, 14, 16, 22, 56), 1717),\n",
       " ((3, 9, 9, 9, 33, 81), 1708),\n",
       " ((4, 8, 4, 16, 44, 56), 1754),\n",
       " ((5, 5, 5, 25, 25, 65), 1378)]"
      ]
     },
     "execution_count": 14,
     "metadata": {},
     "output_type": "execute_result"
    }
   ],
   "source": [
    "[(c,len(newd[c])) for c in newd.keys()]"
   ]
  },
  {
   "cell_type": "code",
   "execution_count": 15,
   "id": "5636959a",
   "metadata": {},
   "outputs": [],
   "source": [
    "# Every inertial F_2^i point of E should lift to two F_2^2i points\n",
    "# so C(F_2^2) >= 2*i1 = 2 * number of F_2 inertial points of E \n",
    "# a1 = r1 + 2*s1 = number of degree 1 places on C\n",
    "# b1 = r1 + s1 + i1 = number of degree 1 places on E\n",
    "\n",
    "for i in range(5):\n",
    "    epc = e_pc[i]\n",
    "    tmp = newd[epc].copy()\n",
    "    for cpc in tmp:\n",
    "        cpc_temp = cpc.copy()\n",
    "        for r in cpc_temp[-1]:\n",
    "            s1 = (cpc_temp[0] - r)/2\n",
    "            i1 = epc[0] - r - s1\n",
    "            if cpc_temp[1] < 2*i1:\n",
    "                try:\n",
    "                    cpc[-1].remove(r)\n",
    "                except:\n",
    "                    continue\n",
    "            if cpc_temp[6]-r == 1:  # r - r1 = 1 is not possible\n",
    "                try:\n",
    "                    cpc[-1].remove(r)\n",
    "                except:\n",
    "                    continue\n",
    "        if len(cpc[-1]) == 0:\n",
    "            try:\n",
    "                newd[epc].remove(cpc)\n",
    "            except:\n",
    "                continue"
   ]
  },
  {
   "cell_type": "code",
   "execution_count": 16,
   "id": "10abf58e",
   "metadata": {},
   "outputs": [
    {
     "data": {
      "text/plain": [
       "[((1, 5, 13, 25, 41, 65), 1597),\n",
       " ((2, 8, 14, 16, 22, 56), 1717),\n",
       " ((3, 9, 9, 9, 33, 81), 1708),\n",
       " ((4, 8, 4, 16, 44, 56), 1754),\n",
       " ((5, 5, 5, 25, 25, 65), 1378)]"
      ]
     },
     "execution_count": 16,
     "metadata": {},
     "output_type": "execute_result"
    }
   ],
   "source": [
    "[(c,len(newd[c])) for c in newd.keys()]"
   ]
  },
  {
   "cell_type": "markdown",
   "id": "64bcba4a",
   "metadata": {},
   "source": [
    "curves_by_ramification.m only needs ramification data:\n",
    "- curve_pointcounts.txt contains possible point counts of C over each E\n",
    "- ram_tuples.txt contains (r1, r-r1), where r1 = number of F_2-rational ramification points on E and r = number of geometric ramification points on E."
   ]
  },
  {
   "cell_type": "code",
   "execution_count": 17,
   "id": "ffc23286",
   "metadata": {},
   "outputs": [
    {
     "name": "stdout",
     "output_type": "stream",
     "text": [
      "{(1, 2), (0, 4), (0, 3), (1, 4), (0, 2), (0, 5), (1, 0), (1, 3)}\n",
      "{(1, 2), (0, 4), (0, 3), (2, 0), (1, 4), (2, 3), (0, 2), (0, 5), (2, 2), (1, 0), (1, 3)}\n",
      "{(1, 2), (0, 4), (0, 3), (2, 0), (1, 4), (3, 0), (2, 3), (0, 2), (0, 5), (2, 2), (1, 0), (3, 2), (1, 3)}\n",
      "{(1, 2), (0, 4), (4, 0), (0, 3), (2, 0), (1, 4), (3, 0), (2, 3), (0, 2), (0, 5), (2, 2), (1, 0), (3, 2), (1, 3)}\n",
      "{(1, 2), (0, 4), (4, 0), (0, 3), (2, 0), (1, 4), (3, 0), (2, 3), (0, 2), (5, 0), (0, 5), (2, 2), (1, 0), (3, 2), (1, 3)}\n"
     ]
    }
   ],
   "source": [
    "for i in range(5):\n",
    "    ram_lst = {tuple([r,cpc[-2] - r]) for cpc in newd[e_pc[i]] for r in cpc[-1]}\n",
    "    print(ram_lst)"
   ]
  },
  {
   "cell_type": "code",
   "execution_count": 18,
   "id": "8c80cd88",
   "metadata": {},
   "outputs": [],
   "source": [
    "for i in range(5):\n",
    "    pc_lst = {tuple(cpc[:6]) for cpc in newd[e_pc[i]]}\n",
    "    f = open(\"./data/\" + str(i+1) + \"/sanity_check/curve_pointcounts.txt\",\"w+\")\n",
    "    for ele in pc_lst:\n",
    "        f.write(str(list(ele)) + \"\\n\")\n",
    "    f.close()\n",
    "    \n",
    "    ram_lst = {tuple([r,cpc[-2] - r]) for cpc in newd[e_pc[i]] for r in cpc[-1]}\n",
    "    f = open(\"./data/\" + str(i+1) + \"/sanity_check/ram_tuples.txt\",\"w+\")\n",
    "    for ele in ram_lst:\n",
    "        f.write(str(list(ele)) + \"\\n\")\n",
    "    f.close()\n",
    "    \n",
    "    for ramtup in ram_lst:\n",
    "        f = open(\"./data/\"+ str(i+1) + \"/\" + str(ramtup[0]) + \"_\" + str(ramtup[1]) + \".txt\",\"w+\")\n",
    "        f.close()"
   ]
  },
  {
   "cell_type": "raw",
   "id": "367e532f",
   "metadata": {},
   "source": [
    "for i in range(5):\n",
    "    l = len(newd[e_pc[i]])\n",
    "    for j in range(0,l,25):\n",
    "        f = open(\"./data/\" + str(i+1) + \"/\" + str(j//25) + \".txt\",\"w+\")\n",
    "        tmp = newd[e_pc[i]][j:j+25]\n",
    "        for c in tmp:\n",
    "            for ram in c[-1]:\n",
    "                to_write = c[:7] + [ram]\n",
    "                f.write(str(to_write) + \"\\n\")\n",
    "        f.close()"
   ]
  },
  {
   "cell_type": "code",
   "execution_count": null,
   "id": "95664b24",
   "metadata": {},
   "outputs": [],
   "source": [
    "e_lst"
   ]
  },
  {
   "cell_type": "code",
   "execution_count": 84,
   "id": "e0a66bce",
   "metadata": {},
   "outputs": [
    {
     "name": "stdout",
     "output_type": "stream",
     "text": [
      "[1, 2, 4, 5, 8, 8]\n",
      "[2, 3, 4, 2, 4, 6]\n",
      "[3, 3, 2, 0, 6, 11]\n",
      "[4, 2, 0, 2, 8, 8]\n",
      "[5, 0, 0, 5, 4, 10]\n"
     ]
    }
   ],
   "source": [
    "for i in e_pc:\n",
    "    print(place_count_from_point_count(i,6))"
   ]
  },
  {
   "cell_type": "code",
   "execution_count": 3,
   "id": "7179871a",
   "metadata": {},
   "outputs": [
    {
     "data": {
      "text/plain": [
       "[Elliptic Curve defined by y^2 + y = x^3 + x + 1 over Finite Field of size 2,\n",
       " Elliptic Curve defined by y^2 + x*y + y = x^3 + 1 over Finite Field of size 2,\n",
       " Elliptic Curve defined by y^2 + y = x^3 over Finite Field of size 2,\n",
       " Elliptic Curve defined by y^2 + x*y = x^3 + 1 over Finite Field of size 2,\n",
       " Elliptic Curve defined by y^2 + y = x^3 + x over Finite Field of size 2]"
      ]
     },
     "execution_count": 3,
     "metadata": {},
     "output_type": "execute_result"
    }
   ],
   "source": [
    "e_lst"
   ]
  },
  {
   "cell_type": "code",
   "execution_count": null,
   "id": "f3246c48",
   "metadata": {},
   "outputs": [],
   "source": []
  },
  {
   "cell_type": "code",
   "execution_count": 82,
   "id": "5c226c7d",
   "metadata": {},
   "outputs": [
    {
     "data": {
      "text/plain": [
       "'/home/jun/Documents/Github/genus_6_census/bielliptic'"
      ]
     },
     "execution_count": 82,
     "metadata": {},
     "output_type": "execute_result"
    }
   ],
   "source": []
  },
  {
   "cell_type": "code",
   "execution_count": null,
   "id": "ae5c4fa8",
   "metadata": {},
   "outputs": [],
   "source": []
  },
  {
   "cell_type": "code",
   "execution_count": null,
   "id": "747fc213",
   "metadata": {},
   "outputs": [],
   "source": []
  },
  {
   "cell_type": "code",
   "execution_count": null,
   "id": "b5b78944",
   "metadata": {},
   "outputs": [],
   "source": []
  },
  {
   "cell_type": "code",
   "execution_count": 78,
   "id": "7194fbe0",
   "metadata": {},
   "outputs": [],
   "source": [
    "file_path = '/home/jun/Documents/Github/genus_6_census/bielliptic/data/3/3_2.txt'\n",
    "f = open(file_path, \"r\")\n",
    "fr = f.readlines()\n",
    "curve_fp = '/home/jun/Documents/Github/genus_6_census/bielliptic/data/3/sanity_check/curve_pointcounts.txt'\n",
    "curve_pc = open(curve_fp,\"r\").readlines()"
   ]
  },
  {
   "cell_type": "code",
   "execution_count": 79,
   "id": "0d801169",
   "metadata": {},
   "outputs": [],
   "source": [
    "curve_pc_lst = []\n",
    "for pc in curve_pc:\n",
    "    pc = eval(pc.strip('\\n'))\n",
    "    curve_pc_lst.append(pc)"
   ]
  },
  {
   "cell_type": "code",
   "execution_count": 80,
   "id": "a2d65143",
   "metadata": {},
   "outputs": [
    {
     "data": {
      "text/plain": [
       "7"
      ]
     },
     "execution_count": 80,
     "metadata": {},
     "output_type": "execute_result"
    }
   ],
   "source": [
    "R.<x,y> = PolynomialRing(GF(2))\n",
    "eqn_lst = []\n",
    "for i in range(0,len(fr)//2,2):\n",
    "    pol = R(fr[i])\n",
    "    pol_pc = eval(fr[i+1])\n",
    "    if pol_pc in curve_pc_lst:\n",
    "        eqn_lst.append(pol)\n",
    "    else:\n",
    "        continue\n",
    "len(eqn_lst)"
   ]
  },
  {
   "cell_type": "code",
   "execution_count": null,
   "id": "3f2c41fc",
   "metadata": {},
   "outputs": [],
   "source": []
  },
  {
   "cell_type": "code",
   "execution_count": null,
   "id": "ea4ef228",
   "metadata": {},
   "outputs": [],
   "source": []
  },
  {
   "cell_type": "code",
   "execution_count": 40,
   "id": "97ff23c9",
   "metadata": {},
   "outputs": [
    {
     "ename": "TypeError",
     "evalue": "F (=x^22 + x^21 + x^20 + x^19 + x^17 + x^15 + x^14*y + x^13*y + x^12*y + x^11*y + x^10*y^2 + x^9*y^2 + x^8*y^2 + x^9 + x^8*y + x^7*y^2 + x^8 + x^7*y + x^6*y + x^5*y^2 + x^5*y + x^4*y^2 + x^4*y + x^4 + x^3*y + x^2*y^2 + y^4 + x^3 + x^2*y + x*y^2 + x^2 + x*y + y^2) must be a multivariate polynomial",
     "output_type": "error",
     "traceback": [
      "\u001b[0;31m---------------------------------------------------------------------------\u001b[0m",
      "\u001b[0;31mTypeError\u001b[0m                                 Traceback (most recent call last)",
      "Cell \u001b[0;32mIn [40], line 6\u001b[0m\n\u001b[1;32m      4\u001b[0m pol_pc \u001b[38;5;241m=\u001b[39m \u001b[38;5;28meval\u001b[39m(fr[i\u001b[38;5;241m+\u001b[39mInteger(\u001b[38;5;241m1\u001b[39m)])\n\u001b[1;32m      5\u001b[0m polm \u001b[38;5;241m=\u001b[39m magma(pol)\n\u001b[0;32m----> 6\u001b[0m F \u001b[38;5;241m=\u001b[39m \u001b[43mCurve\u001b[49m\u001b[43m(\u001b[49m\u001b[43mpolm\u001b[49m\u001b[43m)\u001b[49m\n",
      "File \u001b[0;32m~/sage/src/sage/schemes/curves/constructor.py:284\u001b[0m, in \u001b[0;36mCurve\u001b[0;34m(F, A)\u001b[0m\n\u001b[1;32m    282\u001b[0m         F \u001b[38;5;241m=\u001b[39m [F]\n\u001b[1;32m    283\u001b[0m     \u001b[38;5;28;01melse\u001b[39;00m:\n\u001b[0;32m--> 284\u001b[0m         \u001b[38;5;28;01mraise\u001b[39;00m \u001b[38;5;167;01mTypeError\u001b[39;00m(\u001b[38;5;124m\"\u001b[39m\u001b[38;5;124mF (=\u001b[39m\u001b[38;5;132;01m{}\u001b[39;00m\u001b[38;5;124m) must be a multivariate polynomial\u001b[39m\u001b[38;5;124m\"\u001b[39m\u001b[38;5;241m.\u001b[39mformat(F))\n\u001b[1;32m    285\u001b[0m \u001b[38;5;28;01melse\u001b[39;00m:\n\u001b[1;32m    286\u001b[0m     \u001b[38;5;28;01mif\u001b[39;00m \u001b[38;5;129;01mnot\u001b[39;00m is_AmbientSpace(A):\n",
      "\u001b[0;31mTypeError\u001b[0m: F (=x^22 + x^21 + x^20 + x^19 + x^17 + x^15 + x^14*y + x^13*y + x^12*y + x^11*y + x^10*y^2 + x^9*y^2 + x^8*y^2 + x^9 + x^8*y + x^7*y^2 + x^8 + x^7*y + x^6*y + x^5*y^2 + x^5*y + x^4*y^2 + x^4*y + x^4 + x^3*y + x^2*y^2 + y^4 + x^3 + x^2*y + x*y^2 + x^2 + x*y + y^2) must be a multivariate polynomial"
     ]
    }
   ],
   "source": [
    "R.<x,y> = PolynomialRing(GF(2))\n",
    "for i in range(0,len(fr)//2,2):\n",
    "    pol = R(fr[i])\n",
    "    pol_pc = eval(fr[i+1])\n",
    "    polm = magma(pol)\n",
    "    F = Curve(polm)"
   ]
  },
  {
   "cell_type": "code",
   "execution_count": null,
   "id": "21dba61b",
   "metadata": {},
   "outputs": [],
   "source": []
  },
  {
   "cell_type": "code",
   "execution_count": null,
   "id": "0d549ff4",
   "metadata": {},
   "outputs": [],
   "source": [
    "(1, 5, 13, 25, 41, 65)"
   ]
  },
  {
   "cell_type": "code",
   "execution_count": null,
   "id": "ed85190b",
   "metadata": {},
   "outputs": [],
   "source": [
    "[2, 10, 14, 18, 47, 94]"
   ]
  },
  {
   "cell_type": "code",
   "execution_count": 75,
   "id": "450343f6",
   "metadata": {},
   "outputs": [
    {
     "data": {
      "text/plain": [
       "T^2 + 2*T + 2"
      ]
     },
     "execution_count": 75,
     "metadata": {},
     "output_type": "execute_result"
    }
   ],
   "source": [
    "ewp = e_wp[0];ewp"
   ]
  },
  {
   "cell_type": "code",
   "execution_count": 72,
   "id": "fe232f6f",
   "metadata": {},
   "outputs": [],
   "source": [
    "u = weil_poly_from_point_count([2, 10, 14, 18, 47, 94],6)"
   ]
  },
  {
   "cell_type": "code",
   "execution_count": 73,
   "id": "ba80b6ae",
   "metadata": {},
   "outputs": [
    {
     "data": {
      "text/plain": [
       "1"
      ]
     },
     "execution_count": 73,
     "metadata": {},
     "output_type": "execute_result"
    }
   ],
   "source": [
    "gcd(ewp,u)"
   ]
  },
  {
   "cell_type": "code",
   "execution_count": null,
   "id": "4044ac8d",
   "metadata": {},
   "outputs": [],
   "source": [
    "    for cpc in d[epc]:\n",
    "        u = weil_poly_from_point_count(list(cpc[0]),6)\n",
    "        if gcd(ewp,u) > 1:\n",
    "            g = u//ewp\n",
    "            h1 = ewp.trace_polynomial()[0] #real Weil polys\n",
    "            h2 = g.trace_polynomial()[0]\n",
    "            if h1.resultant(h2) % 2 == 0: #gcd(d=2,res(h1,h2)) = 2\n",
    "                if i % 2 == 0 and (cpc[1] <= 4): #supersingular E, cpc[1] = p-rank of cpc \n",
    "                    try:\n",
    "                        newd[epc].append(cpc[0] + [cpc[1]+1])\n",
    "                    except:\n",
    "                        newd[epc] = [cpc[0] + [cpc[1]+1]]\n",
    "                elif i % 2 == 1 and (1<= cpc[1] <= 6): #ordinary E\n",
    "                    try:\n",
    "                        newd[epc].append(cpc[0] + [cpc[1]-1])\n",
    "                    except:\n",
    "                        newd[epc] = [cpc[0] + [cpc[1]-1]]"
   ]
  }
 ],
 "metadata": {
  "kernelspec": {
   "display_name": "SageMath 10.2.beta1",
   "language": "sage",
   "name": "sagemath"
  },
  "language_info": {
   "codemirror_mode": {
    "name": "ipython",
    "version": 3
   },
   "file_extension": ".py",
   "mimetype": "text/x-python",
   "name": "python",
   "nbconvert_exporter": "python",
   "pygments_lexer": "ipython3",
   "version": "3.10.12"
  }
 },
 "nbformat": 4,
 "nbformat_minor": 5
}
