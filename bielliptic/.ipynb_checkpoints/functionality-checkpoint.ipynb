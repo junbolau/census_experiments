{
 "cells": [
  {
   "cell_type": "raw",
   "id": "5db5688b",
   "metadata": {},
   "source": [
    "#Create txt files corresponding to the 5 elliptic curves at the base"
   ]
  },
  {
   "cell_type": "code",
   "execution_count": null,
   "id": "4528a18d",
   "metadata": {},
   "outputs": [],
   "source": [
    "for i in range(1,6):\n",
    "    f = open(str(i) + \".txt\",\"w+\")"
   ]
  },
  {
   "cell_type": "code",
   "execution_count": null,
   "id": "a965adc1",
   "metadata": {},
   "outputs": [],
   "source": []
  },
  {
   "cell_type": "raw",
   "id": "f193efc1",
   "metadata": {},
   "source": [
    "#sort curves into bins by pointcounts"
   ]
  },
  {
   "cell_type": "code",
   "execution_count": 1,
   "id": "a95d62d3",
   "metadata": {},
   "outputs": [],
   "source": [
    "from collections import defaultdict"
   ]
  },
  {
   "cell_type": "code",
   "execution_count": 2,
   "id": "1df0b0a3",
   "metadata": {},
   "outputs": [],
   "source": [
    "curves = defaultdict(set)\n",
    "R.<x,y> = PolynomialRing(GF(2))\n",
    "for i in range(1,6):\n",
    "    f = open('data/' + str(i) + \".txt\",\"r\").readlines()\n",
    "    for l in f:\n",
    "        lst = sage_eval(l,{'x':x,'y':y})\n",
    "        curves[tuple(lst[0])].add(lst[1][0])"
   ]
  },
  {
   "cell_type": "raw",
   "id": "9982c5c9",
   "metadata": {},
   "source": [
    "len(list(curves.keys()))"
   ]
  },
  {
   "cell_type": "raw",
   "id": "a4c3091a",
   "metadata": {},
   "source": [
    "curves[(1, 5, 19, 33, 41, 77)]"
   ]
  },
  {
   "cell_type": "raw",
   "id": "5d22e670",
   "metadata": {},
   "source": [
    "list(curves.keys())[1270]"
   ]
  },
  {
   "cell_type": "code",
   "execution_count": 3,
   "id": "5731984d",
   "metadata": {},
   "outputs": [],
   "source": [
    "k_lst = list(curves.keys())\n",
    "for i in range(10):\n",
    "    to_write = []\n",
    "    f = open(\"data/sorted\" + str(i) + \".txt\",\"w+\")\n",
    "    for k in k_lst[128*i:128*i + 128]:\n",
    "        for eqn in curves[k]:\n",
    "            f.write(str([list(k),[eqn]]))\n",
    "            f.write('\\n')\n",
    "    f.close()"
   ]
  },
  {
   "cell_type": "code",
   "execution_count": null,
   "id": "3882b50b",
   "metadata": {},
   "outputs": [],
   "source": []
  },
  {
   "cell_type": "raw",
   "id": "520d7fcf",
   "metadata": {},
   "source": [
    "#(nonstacky,stacky)-counts"
   ]
  },
  {
   "cell_type": "code",
   "execution_count": null,
   "id": "9cbf4a13",
   "metadata": {},
   "outputs": [],
   "source": [
    "R.<x,y> = PolynomialRing(GF(2))\n",
    "stacky_ct = 0\n",
    "nonstacky_ct = 0\n",
    "for i in range(10):\n",
    "    f = open(\"isom_sorted\" + i + \".txt\",\"r\").readlines()\n",
    "    for l in f:\n",
    "        stacky_ct += 1/sage_eval(l,{'x':x,'y':y})[1]\n",
    "        nonstacky_ct +=1\n",
    "print(nonstacky_ct,stacky_ct)"
   ]
  }
 ],
 "metadata": {
  "kernelspec": {
   "display_name": "SageMath 10.2.beta1",
   "language": "sage",
   "name": "sagemath"
  },
  "language_info": {
   "codemirror_mode": {
    "name": "ipython",
    "version": 3
   },
   "file_extension": ".py",
   "mimetype": "text/x-python",
   "name": "python",
   "nbconvert_exporter": "python",
   "pygments_lexer": "ipython3",
   "version": "3.10.12"
  }
 },
 "nbformat": 4,
 "nbformat_minor": 5
}
