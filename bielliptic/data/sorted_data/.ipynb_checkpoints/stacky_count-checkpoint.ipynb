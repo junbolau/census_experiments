{
 "cells": [
  {
   "cell_type": "code",
   "execution_count": 4,
   "id": "bad9fe78",
   "metadata": {},
   "outputs": [],
   "source": [
    "#stacky count\n",
    "x = var('x')\n",
    "y = var('y')\n",
    "ct = 0\n",
    "for i in range(1,6):\n",
    "    filename = 'isomclass_t' + str(i) + '.txt'\n",
    "    f = open(filename,'r').readlines()\n",
    "    for line in f:\n",
    "        ct += 1/sage_eval(line,locals={'x':x,'y':y})[1]"
   ]
  },
  {
   "cell_type": "code",
   "execution_count": 5,
   "id": "561e0d58",
   "metadata": {},
   "outputs": [
    {
     "data": {
      "text/plain": [
       "636.450000000000"
      ]
     },
     "execution_count": 5,
     "metadata": {},
     "output_type": "execute_result"
    }
   ],
   "source": [
    "RR(ct)"
   ]
  },
  {
   "cell_type": "code",
   "execution_count": 5,
   "id": "df2f9131",
   "metadata": {},
   "outputs": [],
   "source": [
    "#nonstacky \n",
    "ct = 0\n",
    "for i in range(1,6):\n",
    "    filename = 'isomclass_t' + str(i) + '.txt'\n",
    "    f = open(filename,'r').readlines()\n",
    "    for line in f:\n",
    "        ct += 1"
   ]
  },
  {
   "cell_type": "code",
   "execution_count": 6,
   "id": "fd8bd839",
   "metadata": {},
   "outputs": [
    {
     "data": {
      "text/plain": [
       "1312"
      ]
     },
     "execution_count": 6,
     "metadata": {},
     "output_type": "execute_result"
    }
   ],
   "source": [
    "ct"
   ]
  },
  {
   "cell_type": "code",
   "execution_count": null,
   "id": "a380c56e",
   "metadata": {},
   "outputs": [],
   "source": []
  },
  {
   "cell_type": "raw",
   "id": "ed3700a2",
   "metadata": {},
   "source": [
    "R.<x,y> = PolynomialRing(GF(2))\n",
    "final = []\n",
    "X = magma.AffineSpace(R)\n",
    "for i in range(1,6):\n",
    "    filename = 'isomclass_' + str(i) + '.txt'\n",
    "    f = open(filename,'r').readlines()\n",
    "    for line in f:\n",
    "        pol = magma(R(sage_eval(line,locals={'x':x,'y':y})[0]))\n",
    "        print( X.Curve(pol).IsNonSingular())"
   ]
  },
  {
   "cell_type": "code",
   "execution_count": null,
   "id": "7a28512d",
   "metadata": {},
   "outputs": [],
   "source": []
  },
  {
   "cell_type": "code",
   "execution_count": null,
   "id": "32cb5857",
   "metadata": {},
   "outputs": [],
   "source": []
  }
 ],
 "metadata": {
  "kernelspec": {
   "display_name": "SageMath 10.2.beta1",
   "language": "sage",
   "name": "sagemath"
  },
  "language_info": {
   "codemirror_mode": {
    "name": "ipython",
    "version": 3
   },
   "file_extension": ".py",
   "mimetype": "text/x-python",
   "name": "python",
   "nbconvert_exporter": "python",
   "pygments_lexer": "ipython3",
   "version": "3.10.12"
  }
 },
 "nbformat": 4,
 "nbformat_minor": 5
}
