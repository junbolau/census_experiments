{
 "cells": [
  {
   "cell_type": "raw",
   "id": "5db5688b",
   "metadata": {},
   "source": [
    "#Create txt files corresponding to the 5 elliptic curves at the base"
   ]
  },
  {
   "cell_type": "code",
   "execution_count": null,
   "id": "4528a18d",
   "metadata": {},
   "outputs": [],
   "source": [
    "for i in range(1,6):\n",
    "    f = open(str(i) + \".txt\",\"w+\")"
   ]
  },
  {
   "cell_type": "code",
   "execution_count": null,
   "id": "a965adc1",
   "metadata": {},
   "outputs": [],
   "source": []
  },
  {
   "cell_type": "raw",
   "id": "f193efc1",
   "metadata": {},
   "source": [
    "#sort curves into bins by pointcounts"
   ]
  },
  {
   "cell_type": "code",
   "execution_count": 2,
   "id": "a95d62d3",
   "metadata": {},
   "outputs": [],
   "source": [
    "from collections import defaultdict"
   ]
  },
  {
   "cell_type": "code",
   "execution_count": 11,
   "id": "1df0b0a3",
   "metadata": {},
   "outputs": [],
   "source": [
    "R.<x,y> = PolynomialRing(GF(2))\n",
    "curves = defaultdict(set)\n",
    "\n",
    "for i in range(1,6):\n",
    "    f = open('data/' + str(i) + \".txt\",\"r\").readlines()\n",
    "    for l in f:\n",
    "        lst = sage_eval(l,{'x':x,'y':y})\n",
    "        curves[tuple(lst[0])].add(lst[1][0])\n",
    "\n",
    "k_lst = list(curves.keys())\n",
    "jump = ceil(len(k_lst)/10)\n",
    "for j in range(10):\n",
    "    g = open('data/sorted' + str(i) + '_' + str(j) + '.txt','w+')\n",
    "    for k in k_lst[jump*j:jump*j + jump]:\n",
    "        for eqn in curves[k]:\n",
    "            g.write(str([list(k),[eqn]]))\n",
    "            g.write('\\n')\n",
    "    g.close()    "
   ]
  },
  {
   "cell_type": "code",
   "execution_count": null,
   "id": "3882b50b",
   "metadata": {},
   "outputs": [],
   "source": []
  },
  {
   "cell_type": "raw",
   "id": "520d7fcf",
   "metadata": {},
   "source": [
    "#(nonstacky,stacky)-counts"
   ]
  },
  {
   "cell_type": "code",
   "execution_count": 2,
   "id": "9cbf4a13",
   "metadata": {},
   "outputs": [
    {
     "name": "stdout",
     "output_type": "stream",
     "text": [
      "1535 3729/5\n"
     ]
    }
   ],
   "source": [
    "R.<x,y> = PolynomialRing(GF(2))\n",
    "stacky_ct = 0\n",
    "nonstacky_ct = 0\n",
    "for i in range(10):\n",
    "    f = open(\"data/isom_sorted\" + str(i) + \".txt\",\"r\").readlines()\n",
    "    for l in f:\n",
    "        stacky_ct += 1/sage_eval(l,{'x':x,'y':y})[1]\n",
    "        nonstacky_ct +=1\n",
    "print(nonstacky_ct,stacky_ct)"
   ]
  },
  {
   "cell_type": "code",
   "execution_count": 3,
   "id": "376ce038",
   "metadata": {},
   "outputs": [
    {
     "data": {
      "text/plain": [
       "745.800000000000"
      ]
     },
     "execution_count": 3,
     "metadata": {},
     "output_type": "execute_result"
    }
   ],
   "source": [
    "3729/5.0"
   ]
  },
  {
   "cell_type": "raw",
   "id": "78548122",
   "metadata": {},
   "source": [
    "#FF-ver of (nonstacky,stacky)-counts"
   ]
  },
  {
   "cell_type": "code",
   "execution_count": 6,
   "id": "e1f210ca",
   "metadata": {},
   "outputs": [
    {
     "name": "stdout",
     "output_type": "stream",
     "text": [
      "[143, 0, 143]\n",
      "[152, 0, 152]\n",
      "[152, 0, 152]\n",
      "[157, 0, 157]\n",
      "[156, 0, 156]\n",
      "[166, 0, 166]\n",
      "[153, 0, 153]\n",
      "[150, 0, 150]\n",
      "[160, 0, 160]\n",
      "[146, 0, 146]\n"
     ]
    }
   ],
   "source": [
    "R.<x,y> = PolynomialRing(GF(2))\n",
    "stacky_ct = 0\n",
    "nonstacky_ct = 0\n",
    "for i in range(10):\n",
    "    print(count_lines_in_file(\"data/ff_isom_sorted\" + str(i) + \".txt\"))"
   ]
  },
  {
   "cell_type": "code",
   "execution_count": 9,
   "id": "52248318",
   "metadata": {},
   "outputs": [
    {
     "name": "stdout",
     "output_type": "stream",
     "text": [
      "[143, 68, 0]\n",
      "[152, 76, 0]\n",
      "[152, 285/4, 1]\n",
      "[157, 157/2, 0]\n",
      "[156, 78, 0]\n",
      "[166, 317/4, 1]\n",
      "[153, 295/4, 0]\n",
      "[150, 283/4, 1]\n",
      "[160, 80, 0]\n",
      "[146, 344/5, 0]\n"
     ]
    }
   ],
   "source": [
    "R.<x,y> = PolynomialRing(GF(2))\n",
    "stacky_ct = 0\n",
    "nonstacky_ct = 0\n",
    "for i in range(10):\n",
    "    f = open(\"data/ff_isom_sorted\" + str(i) + \".txt\",\"r\").readlines()\n",
    "    nonstacky_count = 0\n",
    "    stacky_count = 0\n",
    "    error_count = 0\n",
    "    for l in f:\n",
    "        lst = sage_eval(l,{'x':x,'y':y})\n",
    "        nonstacky_count += 1\n",
    "        if lst[-1] == True:\n",
    "            stacky_count += 1/Integer(lst[1])\n",
    "        else:\n",
    "    print([nonstacky_count,stacky_count,error_count])"
   ]
  },
  {
   "cell_type": "code",
   "execution_count": 5,
   "id": "b2c097d3",
   "metadata": {},
   "outputs": [
    {
     "name": "stdout",
     "output_type": "stream",
     "text": [
      "0 0\n",
      "1 0\n",
      "2 1\n",
      "3 0\n",
      "4 0\n",
      "5 1\n",
      "6 0\n",
      "7 1\n",
      "8 0\n",
      "9 0\n",
      "-----\n",
      "1535 7443/10\n"
     ]
    }
   ],
   "source": [
    "R.<x,y> = PolynomialRing(GF(2))\n",
    "nonstacky_count = 0\n",
    "stacky_count = 0\n",
    "\n",
    "for i in range(10):\n",
    "    f = open(\"data/ff_isom_sorted\" + str(i) + \".txt\",\"r\").readlines()\n",
    "    error_count = 0\n",
    "    for l in f:\n",
    "        lst = sage_eval(l,{'x':x,'y':y})\n",
    "        nonstacky_count += 1\n",
    "        if lst[-1] == True:\n",
    "            stacky_count += 1/Integer(lst[1])\n",
    "        else:\n",
    "            error_count += 1\n",
    "    print(i,(error_count))\n",
    "print('-----')\n",
    "print(nonstacky_count,stacky_count)\n"
   ]
  },
  {
   "cell_type": "code",
   "execution_count": 7,
   "id": "af344ccf",
   "metadata": {},
   "outputs": [
    {
     "data": {
      "text/plain": [
       "14901/20"
      ]
     },
     "execution_count": 7,
     "metadata": {},
     "output_type": "execute_result"
    }
   ],
   "source": [
    "(7443/10) + (1/4) + (1/4) + (1/4)"
   ]
  },
  {
   "cell_type": "code",
   "execution_count": 8,
   "id": "8d49562c",
   "metadata": {},
   "outputs": [
    {
     "data": {
      "text/plain": [
       "745.050000000000"
      ]
     },
     "execution_count": 8,
     "metadata": {},
     "output_type": "execute_result"
    }
   ],
   "source": [
    "14901/20.0"
   ]
  },
  {
   "cell_type": "code",
   "execution_count": null,
   "id": "51f62849",
   "metadata": {},
   "outputs": [],
   "source": []
  }
 ],
 "metadata": {
  "kernelspec": {
   "display_name": "SageMath 10.2.beta1",
   "language": "sage",
   "name": "sagemath"
  },
  "language_info": {
   "codemirror_mode": {
    "name": "ipython",
    "version": 3
   },
   "file_extension": ".py",
   "mimetype": "text/x-python",
   "name": "python",
   "nbconvert_exporter": "python",
   "pygments_lexer": "ipython3",
   "version": "3.10.12"
  }
 },
 "nbformat": 4,
 "nbformat_minor": 5
}
