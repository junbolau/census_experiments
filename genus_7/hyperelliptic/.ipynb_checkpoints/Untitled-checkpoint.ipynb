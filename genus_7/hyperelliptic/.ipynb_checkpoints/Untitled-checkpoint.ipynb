{
 "cells": [
  {
   "cell_type": "code",
   "execution_count": 3,
   "id": "ed141384",
   "metadata": {},
   "outputs": [
    {
     "data": {
      "text/plain": [
       "661.760000000000"
      ]
     },
     "execution_count": 3,
     "metadata": {},
     "output_type": "execute_result"
    }
   ],
   "source": [
    "16544/25.0"
   ]
  },
  {
   "cell_type": "code",
   "execution_count": 4,
   "id": "ddd2b63b",
   "metadata": {},
   "outputs": [
    {
     "data": {
      "text/plain": [
       "16550"
      ]
     },
     "execution_count": 4,
     "metadata": {},
     "output_type": "execute_result"
    }
   ],
   "source": [
    "25*662"
   ]
  },
  {
   "cell_type": "code",
   "execution_count": 1,
   "id": "f7e87058",
   "metadata": {},
   "outputs": [],
   "source": [
    "from collections import defaultdict\n",
    "\n",
    "f = open(\"data/pc_unfiltered.txt\",'r').readlines()\n",
    "R.<x,y> = PolynomialRing(GF(2))\n",
    "d = defaultdict(list)\n",
    "for line in f:\n",
    "    lst = sage_eval(line,{'x':x,'y':y})\n",
    "    d[tuple(lst[0])].append([lst[1]])\n"
   ]
  },
  {
   "cell_type": "code",
   "execution_count": 2,
   "id": "b957e3fd",
   "metadata": {},
   "outputs": [
    {
     "data": {
      "text/plain": [
       "14206"
      ]
     },
     "execution_count": 2,
     "metadata": {},
     "output_type": "execute_result"
    }
   ],
   "source": [
    "len(d.keys())"
   ]
  },
  {
   "cell_type": "code",
   "execution_count": 5,
   "id": "26fdb7e6",
   "metadata": {},
   "outputs": [
    {
     "data": {
      "text/plain": [
       "568.240000000000"
      ]
     },
     "execution_count": 5,
     "metadata": {},
     "output_type": "execute_result"
    }
   ],
   "source": [
    "14206/25.0"
   ]
  },
  {
   "cell_type": "code",
   "execution_count": null,
   "id": "37bbc8f7",
   "metadata": {},
   "outputs": [],
   "source": []
  }
 ],
 "metadata": {
  "kernelspec": {
   "display_name": "SageMath 10.2.beta1",
   "language": "sage",
   "name": "sagemath"
  },
  "language_info": {
   "codemirror_mode": {
    "name": "ipython",
    "version": 3
   },
   "file_extension": ".py",
   "mimetype": "text/x-python",
   "name": "python",
   "nbconvert_exporter": "python",
   "pygments_lexer": "ipython3",
   "version": "3.10.12"
  }
 },
 "nbformat": 4,
 "nbformat_minor": 5
}
