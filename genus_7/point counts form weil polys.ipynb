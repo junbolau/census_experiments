{
 "cells": [
  {
   "cell_type": "code",
   "execution_count": 1,
   "id": "7fe961dc",
   "metadata": {},
   "outputs": [],
   "source": [
    "from sage.rings.polynomial.weil.weil_polynomials import WeilPolynomials"
   ]
  },
  {
   "cell_type": "code",
   "execution_count": 2,
   "id": "c82f876a",
   "metadata": {},
   "outputs": [],
   "source": [
    "load(\"weil_poly_utils.sage\")"
   ]
  },
  {
   "cell_type": "code",
   "execution_count": 3,
   "id": "7c51fefc",
   "metadata": {},
   "outputs": [],
   "source": [
    "P.<x> = QQ[]"
   ]
  },
  {
   "cell_type": "code",
   "execution_count": 4,
   "id": "d141985c",
   "metadata": {},
   "outputs": [],
   "source": [
    "l = P.weil_polynomials(14,2)"
   ]
  },
  {
   "cell_type": "code",
   "execution_count": 31,
   "id": "1e76bf1e",
   "metadata": {},
   "outputs": [],
   "source": [
    "def point_count_from_weil_poly(u, n, q=2):\n",
    "    tmp = trace_from_weil_poly(u, n)\n",
    "    fin = tuple()\n",
    "    for i in range(1,n+1):\n",
    "        if q^i + 1 - tmp[i-1] < 0:\n",
    "            return None\n",
    "        else:\n",
    "            fin += (q^i + 1 - tmp[i-1],)\n",
    "    return tuple(fin)"
   ]
  },
  {
   "cell_type": "code",
   "execution_count": 32,
   "id": "4d24a29d",
   "metadata": {},
   "outputs": [],
   "source": [
    "data = [point_count_from_weil_poly(u,7) for u in l]"
   ]
  },
  {
   "cell_type": "code",
   "execution_count": 33,
   "id": "de05ef6d",
   "metadata": {},
   "outputs": [],
   "source": [
    "final = [pc for pc in data if pc is not None]"
   ]
  },
  {
   "cell_type": "code",
   "execution_count": 34,
   "id": "21f2ee74",
   "metadata": {},
   "outputs": [
    {
     "data": {
      "text/plain": [
       "(2428091, 2428091, 2022645)"
      ]
     },
     "execution_count": 34,
     "metadata": {},
     "output_type": "execute_result"
    }
   ],
   "source": [
    "len(data), len(l),len(final)"
   ]
  },
  {
   "cell_type": "code",
   "execution_count": 37,
   "id": "21c23f07",
   "metadata": {},
   "outputs": [],
   "source": [
    "to_write = \"data =\" + str(final)"
   ]
  },
  {
   "cell_type": "code",
   "execution_count": 38,
   "id": "410ba248",
   "metadata": {},
   "outputs": [],
   "source": [
    "f = open(\"pointcounts.sage\",\"w+\")"
   ]
  },
  {
   "cell_type": "code",
   "execution_count": 39,
   "id": "4089e7eb",
   "metadata": {},
   "outputs": [
    {
     "data": {
      "text/plain": [
       "57657293"
      ]
     },
     "execution_count": 39,
     "metadata": {},
     "output_type": "execute_result"
    }
   ],
   "source": [
    "f.write(to_write)"
   ]
  },
  {
   "cell_type": "code",
   "execution_count": 40,
   "id": "76f4acdf",
   "metadata": {},
   "outputs": [],
   "source": [
    "f.close()"
   ]
  }
 ],
 "metadata": {
  "kernelspec": {
   "display_name": "SageMath 10.2.beta1",
   "language": "sage",
   "name": "sagemath"
  },
  "language_info": {
   "codemirror_mode": {
    "name": "ipython",
    "version": 3
   },
   "file_extension": ".py",
   "mimetype": "text/x-python",
   "name": "python",
   "nbconvert_exporter": "python",
   "pygments_lexer": "ipython3",
   "version": "3.10.12"
  }
 },
 "nbformat": 4,
 "nbformat_minor": 5
}
