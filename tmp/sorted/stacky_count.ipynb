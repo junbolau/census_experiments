{
 "cells": [
  {
   "cell_type": "code",
   "execution_count": null,
   "id": "c4339a43",
   "metadata": {},
   "outputs": [],
   "source": [
    "ct = 0\n",
    "for i in range(25):\n",
    "    filename = 'aut_isomclass_with_genus_unfiltered_' + str(i) + '.txt'\n",
    "    f = open(filename,'r').readlines()\n",
    "    for line in f:\n",
    "        ct += 1/(sage_eval(f[0],locals={'x':x, 'y':y})[1])"
   ]
  },
  {
   "cell_type": "code",
   "execution_count": null,
   "id": "1feb6e11",
   "metadata": {},
   "outputs": [],
   "source": [
    "ct"
   ]
  }
 ],
 "metadata": {
  "kernelspec": {
   "display_name": "SageMath 10.2.beta1",
   "language": "sage",
   "name": "sagemath"
  },
  "language_info": {
   "codemirror_mode": {
    "name": "ipython",
    "version": 3
   },
   "file_extension": ".py",
   "mimetype": "text/x-python",
   "name": "python",
   "nbconvert_exporter": "python",
   "pygments_lexer": "ipython3",
   "version": "3.10.12"
  }
 },
 "nbformat": 4,
 "nbformat_minor": 5
}
