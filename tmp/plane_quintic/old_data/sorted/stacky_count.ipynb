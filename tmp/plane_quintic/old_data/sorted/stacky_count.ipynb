{
 "cells": [
  {
   "cell_type": "code",
   "execution_count": 6,
   "id": "c4339a43",
   "metadata": {},
   "outputs": [],
   "source": [
    "P.<x0,x1,x2> = PolynomialRing(GF(2),order = 'lex')\n",
    "ct = 0\n",
    "for i in range(25):\n",
    "    filename = 'isom_genus_' + str(i) + '.txt'\n",
    "    f = open(filename,'r').readlines()\n",
    "    for line in f:\n",
    "        ct += 1/(sage_eval(f[0],locals={'x0':x0, 'x1':x1,'x2':x2})[1])"
   ]
  },
  {
   "cell_type": "code",
   "execution_count": 8,
   "id": "1feb6e11",
   "metadata": {},
   "outputs": [
    {
     "data": {
      "text/plain": [
       "3989.25000000000"
      ]
     },
     "execution_count": 8,
     "metadata": {},
     "output_type": "execute_result"
    }
   ],
   "source": [
    "ct.n()"
   ]
  },
  {
   "cell_type": "code",
   "execution_count": 3,
   "id": "ea585c2a",
   "metadata": {},
   "outputs": [],
   "source": [
    "P.<x0,x1,x2> = PolynomialRing(GF(2),order = 'lex')\n",
    "ct = 0\n",
    "for i in range(25):\n",
    "    filename = 'isom_genus_' + str(i) + '.txt'\n",
    "    f = open(filename,'r').readlines()\n",
    "    for line in f:\n",
    "        ct += 1"
   ]
  },
  {
   "cell_type": "code",
   "execution_count": 4,
   "id": "1f6744b0",
   "metadata": {},
   "outputs": [
    {
     "data": {
      "text/plain": [
       "4107"
      ]
     },
     "execution_count": 4,
     "metadata": {},
     "output_type": "execute_result"
    }
   ],
   "source": [
    "ct"
   ]
  },
  {
   "cell_type": "code",
   "execution_count": null,
   "id": "646d5c03",
   "metadata": {},
   "outputs": [],
   "source": []
  }
 ],
 "metadata": {
  "kernelspec": {
   "display_name": "SageMath 10.2.beta1",
   "language": "sage",
   "name": "sagemath"
  },
  "language_info": {
   "codemirror_mode": {
    "name": "ipython",
    "version": 3
   },
   "file_extension": ".py",
   "mimetype": "text/x-python",
   "name": "python",
   "nbconvert_exporter": "python",
   "pygments_lexer": "ipython3",
   "version": "3.10.12"
  }
 },
 "nbformat": 4,
 "nbformat_minor": 5
}
