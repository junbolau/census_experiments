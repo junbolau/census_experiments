{
 "cells": [
  {
   "cell_type": "raw",
   "id": "3e5c7d93",
   "metadata": {},
   "source": [
    "Create files r_r1.txt where (r,r-r1)\n",
    "- delete r-r1 = 1 files"
   ]
  },
  {
   "cell_type": "code",
   "execution_count": 3,
   "id": "0eeb4603",
   "metadata": {},
   "outputs": [],
   "source": [
    "for r in range(1,6):\n",
    "    path = '/home/jun/Documents/Github/genus_6_census/bielliptic/data/' + str(r) + '/'\n",
    "    for i in range(0,6):\n",
    "        for j in range(0,6):\n",
    "            if i + j <= 5 and j != 1:\n",
    "                filename = path + str(i) + '_' + str(j) + '.txt'\n",
    "                f = open(filename,'w')\n",
    "                f.close()"
   ]
  },
  {
   "cell_type": "code",
   "execution_count": null,
   "id": "ec617800",
   "metadata": {},
   "outputs": [],
   "source": []
  },
  {
   "cell_type": "code",
   "execution_count": 12,
   "id": "dbbb7ca8",
   "metadata": {},
   "outputs": [],
   "source": [
    "load(\"../Shared/pointcounts.sage\")"
   ]
  },
  {
   "cell_type": "code",
   "execution_count": 13,
   "id": "78e95f97",
   "metadata": {},
   "outputs": [],
   "source": [
    "import os\n",
    "\n",
    "eqns = {}\n",
    "\n",
    "for i in range(5):\n",
    "    directory = './data/' + str(i+1)\n",
    "            \n",
    "    R.<x,y> = PolynomialRing(GF(2))\n",
    "    for filename in os.listdir(directory):\n",
    "        if filename.endswith('.txt') and not filename == 'pre_isom.txt':\n",
    "            with open(os.path.join(directory, filename)) as f:\n",
    "                fr = f.readlines()\n",
    "                for line in fr:\n",
    "                    lst = sage_eval(line, {'x':x,'y':y})\n",
    "                    if tuple(lst[0]) in data:\n",
    "                        try:\n",
    "                            eqns[tuple(lst[0])].add(lst[1][0])\n",
    "                        except:\n",
    "                            eqns[tuple(lst[0])] = {lst[1][0]}\n",
    "            f.close()\n"
   ]
  },
  {
   "cell_type": "code",
   "execution_count": 16,
   "id": "e113c121",
   "metadata": {},
   "outputs": [
    {
     "data": {
      "text/plain": [
       "1271"
      ]
     },
     "execution_count": 16,
     "metadata": {},
     "output_type": "execute_result"
    }
   ],
   "source": [
    "len(list(eqns.keys()))"
   ]
  },
  {
   "cell_type": "code",
   "execution_count": 23,
   "id": "54354478",
   "metadata": {},
   "outputs": [
    {
     "data": {
      "text/plain": [
       "4.88846153846154"
      ]
     },
     "execution_count": 23,
     "metadata": {},
     "output_type": "execute_result"
    }
   ],
   "source": [
    "1271/260.0"
   ]
  },
  {
   "cell_type": "code",
   "execution_count": 25,
   "id": "f6d1221c",
   "metadata": {},
   "outputs": [],
   "source": [
    "lst = list(eqns.keys())\n",
    "for j in range(5):\n",
    "    g = open(\"./data/sorted_data/\" + str(j+1) +\".txt\",\"w+\")\n",
    "    for key in lst[260*j:260*j + 260]:\n",
    "        for eq in eqns[key]:\n",
    "            g.write(str([list(key),[eq]]))\n",
    "            g.write('\\n')\n",
    "    g.close()"
   ]
  },
  {
   "cell_type": "code",
   "execution_count": null,
   "id": "96134238",
   "metadata": {},
   "outputs": [],
   "source": []
  }
 ],
 "metadata": {
  "kernelspec": {
   "display_name": "SageMath 10.2.beta1",
   "language": "sage",
   "name": "sagemath"
  },
  "language_info": {
   "codemirror_mode": {
    "name": "ipython",
    "version": 3
   },
   "file_extension": ".py",
   "mimetype": "text/x-python",
   "name": "python",
   "nbconvert_exporter": "python",
   "pygments_lexer": "ipython3",
   "version": "3.10.12"
  }
 },
 "nbformat": 4,
 "nbformat_minor": 5
}
