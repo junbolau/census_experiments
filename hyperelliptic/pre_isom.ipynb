{
 "cells": [
  {
   "cell_type": "code",
   "execution_count": 23,
   "id": "4916b034",
   "metadata": {},
   "outputs": [],
   "source": [
    "from collections import defaultdict"
   ]
  },
  {
   "cell_type": "code",
   "execution_count": 24,
   "id": "fcdb261f",
   "metadata": {},
   "outputs": [],
   "source": [
    "f = open(\"pc_hyperelliptic.txt\",'r').readlines()"
   ]
  },
  {
   "cell_type": "code",
   "execution_count": 30,
   "id": "db623bea",
   "metadata": {},
   "outputs": [],
   "source": [
    "R.<x,y> = PolynomialRing(GF(2))\n",
    "d = defaultdict(list)\n",
    "for line in f:\n",
    "    lst = sage_eval(line,{'x':x,'y':y})\n",
    "    d[tuple(lst[0])].append([lst[1]])"
   ]
  },
  {
   "cell_type": "code",
   "execution_count": 31,
   "id": "77d980c3",
   "metadata": {},
   "outputs": [
    {
     "data": {
      "text/plain": [
       "133.640000000000"
      ]
     },
     "execution_count": 31,
     "metadata": {},
     "output_type": "execute_result"
    }
   ],
   "source": [
    "3341/25.0"
   ]
  },
  {
   "cell_type": "code",
   "execution_count": null,
   "id": "cc328c1e",
   "metadata": {},
   "outputs": [],
   "source": []
  },
  {
   "cell_type": "code",
   "execution_count": 32,
   "id": "b9e53273",
   "metadata": {},
   "outputs": [
    {
     "data": {
      "text/plain": [
       "3341"
      ]
     },
     "execution_count": 32,
     "metadata": {},
     "output_type": "execute_result"
    }
   ],
   "source": [
    "len(d.keys())"
   ]
  },
  {
   "cell_type": "code",
   "execution_count": 33,
   "id": "a695f569",
   "metadata": {},
   "outputs": [
    {
     "data": {
      "text/plain": [
       "(1, 9, 7, 17, 21, 45)"
      ]
     },
     "execution_count": 33,
     "metadata": {},
     "output_type": "execute_result"
    }
   ],
   "source": [
    "list(d.keys())[0]"
   ]
  },
  {
   "cell_type": "code",
   "execution_count": 34,
   "id": "8f35ed30",
   "metadata": {},
   "outputs": [
    {
     "data": {
      "text/plain": [
       "[[x^13 + x^12 + x^11 + x^10 + x^9 + x^7 + x^5 + x^4 + x^2 + y^2 + x + y + 1]]"
      ]
     },
     "execution_count": 34,
     "metadata": {},
     "output_type": "execute_result"
    }
   ],
   "source": [
    "d[(1, 9, 7, 17, 21, 45)]"
   ]
  },
  {
   "cell_type": "code",
   "execution_count": 36,
   "id": "d6065a18",
   "metadata": {},
   "outputs": [],
   "source": [
    "lst = list(d.keys())\n",
    "for j in range(25):\n",
    "    f = open('./sorted/' + str(j) + '.txt','w+')\n",
    "    for key in lst[134*j:134*j + 134]:\n",
    "        for gens in d[key]:\n",
    "            tmp = [list(key),list(gens)]\n",
    "            f.write(str(tmp))\n",
    "            f.write('\\n')\n",
    "    f.close()"
   ]
  },
  {
   "cell_type": "code",
   "execution_count": null,
   "id": "ee78613f",
   "metadata": {},
   "outputs": [],
   "source": []
  }
 ],
 "metadata": {
  "kernelspec": {
   "display_name": "SageMath 10.2.beta1",
   "language": "sage",
   "name": "sagemath"
  },
  "language_info": {
   "codemirror_mode": {
    "name": "ipython",
    "version": 3
   },
   "file_extension": ".py",
   "mimetype": "text/x-python",
   "name": "python",
   "nbconvert_exporter": "python",
   "pygments_lexer": "ipython3",
   "version": "3.10.12"
  }
 },
 "nbformat": 4,
 "nbformat_minor": 5
}
