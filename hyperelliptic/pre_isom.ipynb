{
 "cells": [
  {
   "cell_type": "code",
   "execution_count": null,
   "id": "4916b034",
   "metadata": {},
   "outputs": [],
   "source": [
    "from collections import defaultdict"
   ]
  },
  {
   "cell_type": "code",
   "execution_count": null,
   "id": "fcdb261f",
   "metadata": {},
   "outputs": [],
   "source": [
    "f = open(\"pc_hyperelliptic.txt\",'r').readlines()"
   ]
  },
  {
   "cell_type": "code",
   "execution_count": null,
   "id": "db623bea",
   "metadata": {},
   "outputs": [],
   "source": [
    "R.<x,y> = PolynomialRing(GF(2))\n",
    "d = defaultdict(set)\n",
    "for line in f:\n",
    "    lst = sage_eval(line,{'x':x,'y':y})\n",
    "    d[tuple(lst[0])].add(tuple(lst[1]))"
   ]
  },
  {
   "cell_type": "code",
   "execution_count": null,
   "id": "cc328c1e",
   "metadata": {},
   "outputs": [],
   "source": []
  },
  {
   "cell_type": "code",
   "execution_count": null,
   "id": "b9e53273",
   "metadata": {},
   "outputs": [],
   "source": [
    "len(d.keys())"
   ]
  },
  {
   "cell_type": "code",
   "execution_count": null,
   "id": "a695f569",
   "metadata": {},
   "outputs": [],
   "source": [
    "d.keys()"
   ]
  },
  {
   "cell_type": "code",
   "execution_count": null,
   "id": "d6065a18",
   "metadata": {},
   "outputs": [],
   "source": [
    "lst = list(d.keys())\n",
    "for j in range(25):\n",
    "    f = open('./sorted/' + str(j) + '.txt','w+')\n",
    "    for key in lst[66*j:66*j + 66]:\n",
    "        for gens in d[key]:\n",
    "            tmp = [[key],[gens]]\n",
    "            f.write(str(tmp))\n",
    "            f.write('\\n')\n",
    "    f.close()"
   ]
  }
 ],
 "metadata": {
  "kernelspec": {
   "display_name": "SageMath 10.2.beta1",
   "language": "sage",
   "name": "sagemath"
  },
  "language_info": {
   "codemirror_mode": {
    "name": "ipython",
    "version": 3
   },
   "file_extension": ".py",
   "mimetype": "text/x-python",
   "name": "python",
   "nbconvert_exporter": "python",
   "pygments_lexer": "ipython3",
   "version": "3.10.12"
  }
 },
 "nbformat": 4,
 "nbformat_minor": 5
}
